{
 "cells": [
  {
   "cell_type": "code",
   "execution_count": 2,
   "metadata": {},
   "outputs": [],
   "source": [
    "# Importado as bibliotecas\n",
    "import numpy as np # linear algebra\n",
    "import pandas as pd # data processing, CSV file I/O (e.g. pd.read_csv)\n",
    "import plotly.express as px\n",
    "import matplotlib.pyplot as plt\n",
    "import seaborn as sns # for plotting stuff"
   ]
  },
  {
   "cell_type": "markdown",
   "metadata": {},
   "source": [
    "##Criando os dataframes por ano"
   ]
  },
  {
   "cell_type": "code",
   "execution_count": 3,
   "metadata": {},
   "outputs": [],
   "source": [
    "belem_2014 = pd.read_csv(r'C:\\Users\\Darlene\\Documents\\Exercícios de Programação\\Colab\\Trabalho_Estatistica\\Datasets_1\\2014\\2014_Belem.CSV', delimiter=';',dtype={'precipitacao_total':'float64'})\n",
    "bh_2014 = pd.read_csv(r'C:\\Users\\Darlene\\Documents\\Exercícios de Programação\\Colab\\Trabalho_Estatistica\\Datasets_1\\2014\\2014_Belo_Horizonte.CSV', delimiter=';',dtype={'precipitacao_total':'float64'})\n",
    "bsb_2014 = pd.read_csv(r'C:\\Users\\Darlene\\Documents\\Exercícios de Programação\\Colab\\Trabalho_Estatistica\\Datasets_1\\2014\\2014_Brasilia.CSV', delimiter=';',dtype={'precipitacao_total':'float64'})\n",
    "cg_2014 = pd.read_csv(r'C:\\Users\\Darlene\\Documents\\Exercícios de Programação\\Colab\\Trabalho_Estatistica\\Datasets_1\\2014\\2014_Campo_Grande.CSV', delimiter=';',dtype={'precipitacao_total':'float64'})\n",
    "cb_2014 = pd.read_csv(r'C:\\Users\\Darlene\\Documents\\Exercícios de Programação\\Colab\\Trabalho_Estatistica\\Datasets_1\\2014\\2014_Curitiba.CSV', delimiter=';',dtype={'precipitacao_total':'float64'})\n",
    "manaus_2014 = pd.read_csv(r'C:\\Users\\Darlene\\Documents\\Exercícios de Programação\\Colab\\Trabalho_Estatistica\\Datasets_1\\2014\\2014_Manaus.CSV', delimiter=';',dtype={'precipitacao_total':'float64'})\n",
    "pa_2014 = pd.read_csv(r'C:\\Users\\Darlene\\Documents\\Exercícios de Programação\\Colab\\Trabalho_Estatistica\\Datasets_1\\2014\\2014_Porto_Alegre.CSV', delimiter=';',dtype={'precipitacao_total':'float64'})\n",
    "salvador_2014 = pd.read_csv(r'C:\\Users\\Darlene\\Documents\\Exercícios de Programação\\Colab\\Trabalho_Estatistica\\Datasets_1\\2014\\2014_Salvador.CSV', delimiter=';',dtype={'precipitacao_total':'float64'})\n",
    "sp_2014 = pd.read_csv(r'C:\\Users\\Darlene\\Documents\\Exercícios de Programação\\Colab\\Trabalho_Estatistica\\Datasets_1\\2014\\2014_Sao_Paulo.CSV', delimiter=';',dtype={'precipitacao_total':'float64'})\n",
    "teresina_2014 = pd.read_csv(r'C:\\Users\\Darlene\\Documents\\Exercícios de Programação\\Colab\\Trabalho_Estatistica\\Datasets_1\\2014\\2014_Teresina.CSV', delimiter=';',dtype={'precipitacao_total':'float64'})\n",
    "belem_2015 = pd.read_csv(r'C:\\Users\\Darlene\\Documents\\Exercícios de Programação\\Colab\\Trabalho_Estatistica\\Datasets_1\\2015\\2015_Belem.CSV', delimiter=';',dtype={'precipitacao_total':'float64'})\n",
    "bh_2015 = pd.read_csv(r'C:\\Users\\Darlene\\Documents\\Exercícios de Programação\\Colab\\Trabalho_Estatistica\\Datasets_1\\2015\\2015_Belo_Horizonte.CSV', delimiter=';',dtype={'precipitacao_total':'float64'})\n",
    "bsb_2015 = pd.read_csv(r'C:\\Users\\Darlene\\Documents\\Exercícios de Programação\\Colab\\Trabalho_Estatistica\\Datasets_1\\2015\\2015_Brasilia.CSV', delimiter=';',dtype={'precipitacao_total':'float64'})\n",
    "cg_2015 = pd.read_csv(r'C:\\Users\\Darlene\\Documents\\Exercícios de Programação\\Colab\\Trabalho_Estatistica\\Datasets_1\\2015\\2015_Campo_Grande.CSV', delimiter=';',dtype={'precipitacao_total':'float64'})\n",
    "cb_2015 = pd.read_csv(r'C:\\Users\\Darlene\\Documents\\Exercícios de Programação\\Colab\\Trabalho_Estatistica\\Datasets_1\\2015\\2015_Curitiba.CSV', delimiter=';',dtype={'precipitacao_total':'float64'})\n",
    "manaus_2015 = pd.read_csv(r'C:\\Users\\Darlene\\Documents\\Exercícios de Programação\\Colab\\Trabalho_Estatistica\\Datasets_1\\2015\\2015_Manaus.CSV', delimiter=';',dtype={'precipitacao_total':'float64'})\n",
    "pa_2015 = pd.read_csv(r'C:\\Users\\Darlene\\Documents\\Exercícios de Programação\\Colab\\Trabalho_Estatistica\\Datasets_1\\2015\\2015_Porto_Alegre.CSV', delimiter=';',dtype={'precipitacao_total':'float64'})\n",
    "salvador_2015 = pd.read_csv(r'C:\\Users\\Darlene\\Documents\\Exercícios de Programação\\Colab\\Trabalho_Estatistica\\Datasets_1\\2015\\2015_Salvador.CSV', delimiter=';',dtype={'precipitacao_total':'float64'})\n",
    "sp_2015 = pd.read_csv(r'C:\\Users\\Darlene\\Documents\\Exercícios de Programação\\Colab\\Trabalho_Estatistica\\Datasets_1\\2015\\2015_Sao_Paulo.CSV', delimiter=';',dtype={'precipitacao_total':'float64'})\n",
    "teresina_2015 = pd.read_csv(r'C:\\Users\\Darlene\\Documents\\Exercícios de Programação\\Colab\\Trabalho_Estatistica\\Datasets_1\\2015\\2015_Teresina.CSV', delimiter=';',dtype={'precipitacao_total':'float64'})\n",
    "belem_2016 = pd.read_csv(r'C:\\Users\\Darlene\\Documents\\Exercícios de Programação\\Colab\\Trabalho_Estatistica\\Datasets_1\\2016\\2016_Belem.CSV', delimiter=';',dtype={'precipitacao_total':'float64'})\n",
    "bh_2016 = pd.read_csv(r'C:\\Users\\Darlene\\Documents\\Exercícios de Programação\\Colab\\Trabalho_Estatistica\\Datasets_1\\2016\\2016_Belo_Horizonte.CSV', delimiter=';',dtype={'precipitacao_total':'float64'})\n",
    "bsb_2016 = pd.read_csv(r'C:\\Users\\Darlene\\Documents\\Exercícios de Programação\\Colab\\Trabalho_Estatistica\\Datasets_1\\2016\\2016_Brasilia.CSV', delimiter=';',dtype={'precipitacao_total':'float64'})\n",
    "cg_2016 = pd.read_csv(r'C:\\Users\\Darlene\\Documents\\Exercícios de Programação\\Colab\\Trabalho_Estatistica\\Datasets_1\\2016\\2016_Campo_Grande.CSV', delimiter=';',dtype={'precipitacao_total':'float64'})\n",
    "cb_2016 = pd.read_csv(r'C:\\Users\\Darlene\\Documents\\Exercícios de Programação\\Colab\\Trabalho_Estatistica\\Datasets_1\\2016\\2016_Curitiba.CSV', delimiter=';',dtype={'precipitacao_total':'float64'})\n",
    "manaus_2016 = pd.read_csv(r'C:\\Users\\Darlene\\Documents\\Exercícios de Programação\\Colab\\Trabalho_Estatistica\\Datasets_1\\2016\\2016_Manaus.CSV', delimiter=';',dtype={'precipitacao_total':'float64'})\n",
    "pa_2016 = pd.read_csv(r'C:\\Users\\Darlene\\Documents\\Exercícios de Programação\\Colab\\Trabalho_Estatistica\\Datasets_1\\2016\\2016_Porto_Alegre.CSV', delimiter=';',dtype={'precipitacao_total':'float64'})\n",
    "salvador_2016 = pd.read_csv(r'C:\\Users\\Darlene\\Documents\\Exercícios de Programação\\Colab\\Trabalho_Estatistica\\Datasets_1\\2016\\2016_Salvador.CSV', delimiter=';',dtype={'precipitacao_total':'float64'})\n",
    "sp_2016 = pd.read_csv(r'C:\\Users\\Darlene\\Documents\\Exercícios de Programação\\Colab\\Trabalho_Estatistica\\Datasets_1\\2016\\2016_Sao_Paulo.CSV', delimiter=';',dtype={'precipitacao_total':'float64'})\n",
    "teresina_2016 = pd.read_csv(r'C:\\Users\\Darlene\\Documents\\Exercícios de Programação\\Colab\\Trabalho_Estatistica\\Datasets_1\\2016\\2016_Teresina.CSV', delimiter=';',dtype={'precipitacao_total':'float64'})\n",
    "belem_2017 = pd.read_csv(r'C:\\Users\\Darlene\\Documents\\Exercícios de Programação\\Colab\\Trabalho_Estatistica\\Datasets_1\\2017\\2017_Belem.CSV', delimiter=';',dtype={'precipitacao_total':'float64'})\n",
    "bh_2017 = pd.read_csv(r'C:\\Users\\Darlene\\Documents\\Exercícios de Programação\\Colab\\Trabalho_Estatistica\\Datasets_1\\2017\\2017_Belo_Horizonte.CSV', delimiter=';',dtype={'precipitacao_total':'float64'})\n",
    "bsb_2017 = pd.read_csv(r'C:\\Users\\Darlene\\Documents\\Exercícios de Programação\\Colab\\Trabalho_Estatistica\\Datasets_1\\2017\\2017_Brasilia.CSV', delimiter=';',dtype={'precipitacao_total':'float64'})\n",
    "cg_2017 = pd.read_csv(r'C:\\Users\\Darlene\\Documents\\Exercícios de Programação\\Colab\\Trabalho_Estatistica\\Datasets_1\\2017\\2017_Campo_Grande.CSV', delimiter=';',dtype={'precipitacao_total':'float64'})\n",
    "cb_2017 = pd.read_csv(r'C:\\Users\\Darlene\\Documents\\Exercícios de Programação\\Colab\\Trabalho_Estatistica\\Datasets_1\\2017\\2017_Curitiba.CSV', delimiter=';',dtype={'precipitacao_total':'float64'})\n",
    "manaus_2017 = pd.read_csv(r'C:\\Users\\Darlene\\Documents\\Exercícios de Programação\\Colab\\Trabalho_Estatistica\\Datasets_1\\2017\\2017_Manaus.CSV', delimiter=';',dtype={'precipitacao_total':'float64'})\n",
    "pa_2017 = pd.read_csv(r'C:\\Users\\Darlene\\Documents\\Exercícios de Programação\\Colab\\Trabalho_Estatistica\\Datasets_1\\2017\\2017_Porto_Alegre.CSV', delimiter=';',dtype={'precipitacao_total':'float64'})\n",
    "salvador_2017 = pd.read_csv(r'C:\\Users\\Darlene\\Documents\\Exercícios de Programação\\Colab\\Trabalho_Estatistica\\Datasets_1\\2017\\2017_Salvador.CSV', delimiter=';',dtype={'precipitacao_total':'float64'})\n",
    "sp_2017 = pd.read_csv(r'C:\\Users\\Darlene\\Documents\\Exercícios de Programação\\Colab\\Trabalho_Estatistica\\Datasets_1\\2017\\2017_Sao_Paulo.CSV', delimiter=';',dtype={'precipitacao_total':'float64'})\n",
    "teresina_2017 = pd.read_csv(r'C:\\Users\\Darlene\\Documents\\Exercícios de Programação\\Colab\\Trabalho_Estatistica\\Datasets_1\\2017\\2017_Teresina.CSV', delimiter=';',dtype={'precipitacao_total':'float64'})\n",
    "belem_2018 = pd.read_csv(r'C:\\Users\\Darlene\\Documents\\Exercícios de Programação\\Colab\\Trabalho_Estatistica\\Datasets_1\\2018\\2018_Belem.CSV', delimiter=';',dtype={'precipitacao_total':'float64'})\n",
    "bh_2018 = pd.read_csv(r'C:\\Users\\Darlene\\Documents\\Exercícios de Programação\\Colab\\Trabalho_Estatistica\\Datasets_1\\2018\\2018_Belo_Horizonte.CSV', delimiter=';',dtype={'precipitacao_total':'float64'})\n",
    "bsb_2018 = pd.read_csv(r'C:\\Users\\Darlene\\Documents\\Exercícios de Programação\\Colab\\Trabalho_Estatistica\\Datasets_1\\2018\\2018_Brasilia.CSV', delimiter=';',dtype={'precipitacao_total':'float64'})\n",
    "cg_2018 = pd.read_csv(r'C:\\Users\\Darlene\\Documents\\Exercícios de Programação\\Colab\\Trabalho_Estatistica\\Datasets_1\\2018\\2018_Campo_Grande.CSV', delimiter=';',dtype={'precipitacao_total':'float64'})\n",
    "cb_2018 = pd.read_csv(r'C:\\Users\\Darlene\\Documents\\Exercícios de Programação\\Colab\\Trabalho_Estatistica\\Datasets_1\\2018\\2018_Curitiba.CSV', delimiter=';',dtype={'precipitacao_total':'float64'})\n",
    "manaus_2018 = pd.read_csv(r'C:\\Users\\Darlene\\Documents\\Exercícios de Programação\\Colab\\Trabalho_Estatistica\\Datasets_1\\2018\\2018_Manaus.CSV', delimiter=';',dtype={'precipitacao_total':'float64'})\n",
    "pa_2018 = pd.read_csv(r'C:\\Users\\Darlene\\Documents\\Exercícios de Programação\\Colab\\Trabalho_Estatistica\\Datasets_1\\2018\\2018_Porto_Alegre.CSV', delimiter=';',dtype={'precipitacao_total':'float64'})\n",
    "salvador_2018 = pd.read_csv(r'C:\\Users\\Darlene\\Documents\\Exercícios de Programação\\Colab\\Trabalho_Estatistica\\Datasets_1\\2018\\2018_Salvador.CSV', delimiter=';',dtype={'precipitacao_total':'float64'})\n",
    "sp_2018 = pd.read_csv(r'C:\\Users\\Darlene\\Documents\\Exercícios de Programação\\Colab\\Trabalho_Estatistica\\Datasets_1\\2018\\2018_Sao_Paulo.CSV', delimiter=';',dtype={'precipitacao_total':'float64'})\n",
    "teresina_2018 = pd.read_csv(r'C:\\Users\\Darlene\\Documents\\Exercícios de Programação\\Colab\\Trabalho_Estatistica\\Datasets_1\\2018\\2018_Teresina.CSV', delimiter=';',dtype={'precipitacao_total':'float64'})\n",
    "belem_2019 = pd.read_csv(r'C:\\Users\\Darlene\\Documents\\Exercícios de Programação\\Colab\\Trabalho_Estatistica\\Datasets_1\\2019\\2019_Belem.CSV', delimiter=';',dtype={'precipitacao_total':'float64'})\n",
    "bh_2019 = pd.read_csv(r'C:\\Users\\Darlene\\Documents\\Exercícios de Programação\\Colab\\Trabalho_Estatistica\\Datasets_1\\2019\\2019_Belo_Horizonte.CSV', delimiter=';',dtype={'precipitacao_total':'float64'})\n",
    "bsb_2019 = pd.read_csv(r'C:\\Users\\Darlene\\Documents\\Exercícios de Programação\\Colab\\Trabalho_Estatistica\\Datasets_1\\2019\\2019_Brasilia.CSV', delimiter=';',dtype={'precipitacao_total':'float64'})\n",
    "cg_2019 = pd.read_csv(r'C:\\Users\\Darlene\\Documents\\Exercícios de Programação\\Colab\\Trabalho_Estatistica\\Datasets_1\\2019\\2019_Campo_Grande.CSV', delimiter=';',dtype={'precipitacao_total':'float64'})\n",
    "cb_2019 = pd.read_csv(r'C:\\Users\\Darlene\\Documents\\Exercícios de Programação\\Colab\\Trabalho_Estatistica\\Datasets_1\\2019\\2019_Curitiba.CSV', delimiter=';',dtype={'precipitacao_total':'float64'})\n",
    "manaus_2019 = pd.read_csv(r'C:\\Users\\Darlene\\Documents\\Exercícios de Programação\\Colab\\Trabalho_Estatistica\\Datasets_1\\2019\\2019_Manaus.CSV', delimiter=';',dtype={'precipitacao_total':'float64'})\n",
    "pa_2019 = pd.read_csv(r'C:\\Users\\Darlene\\Documents\\Exercícios de Programação\\Colab\\Trabalho_Estatistica\\Datasets_1\\2019\\2019_Porto_Alegre.CSV', delimiter=';',dtype={'precipitacao_total':'float64'})\n",
    "salvador_2019 = pd.read_csv(r'C:\\Users\\Darlene\\Documents\\Exercícios de Programação\\Colab\\Trabalho_Estatistica\\Datasets_1\\2019\\2019_Salvador.CSV', delimiter=';',dtype={'precipitacao_total':'float64'})\n",
    "sp_2019 = pd.read_csv(r'C:\\Users\\Darlene\\Documents\\Exercícios de Programação\\Colab\\Trabalho_Estatistica\\Datasets_1\\2019\\2019_Sao_Paulo.CSV', delimiter=';',dtype={'precipitacao_total':'float64'})\n",
    "teresina_2019 = pd.read_csv(r'C:\\Users\\Darlene\\Documents\\Exercícios de Programação\\Colab\\Trabalho_Estatistica\\Datasets_1\\2019\\2019_Teresina.CSV', delimiter=';',dtype={'precipitacao_total':'float64'})\n",
    "belem_2020 = pd.read_csv(r'C:\\Users\\Darlene\\Documents\\Exercícios de Programação\\Colab\\Trabalho_Estatistica\\Datasets_1\\2020\\2020_Belem.CSV', delimiter=';',dtype={'precipitacao_total':'float64'})\n",
    "bh_2020 = pd.read_csv(r'C:\\Users\\Darlene\\Documents\\Exercícios de Programação\\Colab\\Trabalho_Estatistica\\Datasets_1\\2020\\2020_Belo_Horizonte.CSV', delimiter=';',dtype={'precipitacao_total':'float64'})\n",
    "bsb_2020 = pd.read_csv(r'C:\\Users\\Darlene\\Documents\\Exercícios de Programação\\Colab\\Trabalho_Estatistica\\Datasets_1\\2020\\2020_Brasilia.CSV', delimiter=';',dtype={'precipitacao_total':'float64'})\n",
    "cg_2020 = pd.read_csv(r'C:\\Users\\Darlene\\Documents\\Exercícios de Programação\\Colab\\Trabalho_Estatistica\\Datasets_1\\2020\\2020_Campo_Grande.CSV', delimiter=';',dtype={'precipitacao_total':'float64'})\n",
    "cb_2020 = pd.read_csv(r'C:\\Users\\Darlene\\Documents\\Exercícios de Programação\\Colab\\Trabalho_Estatistica\\Datasets_1\\2020\\2020_Curitiba.CSV', delimiter=';',dtype={'precipitacao_total':'float64'})\n",
    "manaus_2020 = pd.read_csv(r'C:\\Users\\Darlene\\Documents\\Exercícios de Programação\\Colab\\Trabalho_Estatistica\\Datasets_1\\2020\\2020_Manaus.CSV', delimiter=';',dtype={'precipitacao_total':'float64'})\n",
    "pa_2020 = pd.read_csv(r'C:\\Users\\Darlene\\Documents\\Exercícios de Programação\\Colab\\Trabalho_Estatistica\\Datasets_1\\2020\\2020_Porto_Alegre.CSV', delimiter=';',dtype={'precipitacao_total':'float64'})\n",
    "salvador_2020 = pd.read_csv(r'C:\\Users\\Darlene\\Documents\\Exercícios de Programação\\Colab\\Trabalho_Estatistica\\Datasets_1\\2020\\2020_Salvador.CSV', delimiter=';',dtype={'precipitacao_total':'float64'})\n",
    "sp_2020 = pd.read_csv(r'C:\\Users\\Darlene\\Documents\\Exercícios de Programação\\Colab\\Trabalho_Estatistica\\Datasets_1\\2020\\2020_Sao_Paulo.CSV', delimiter=';',dtype={'precipitacao_total':'float64'})\n",
    "teresina_2020 = pd.read_csv(r'C:\\Users\\Darlene\\Documents\\Exercícios de Programação\\Colab\\Trabalho_Estatistica\\Datasets_1\\2020\\2020_Teresina.CSV', delimiter=';',dtype={'precipitacao_total':'float64'})\n",
    "belem_2021 = pd.read_csv(r'C:\\Users\\Darlene\\Documents\\Exercícios de Programação\\Colab\\Trabalho_Estatistica\\Datasets_1\\2021\\2021_Belem.CSV', delimiter=';',dtype={'precipitacao_total':'float64'})\n",
    "bh_2021 = pd.read_csv(r'C:\\Users\\Darlene\\Documents\\Exercícios de Programação\\Colab\\Trabalho_Estatistica\\Datasets_1\\2021\\2021_Belo_Horizonte.CSV', delimiter=';',dtype={'precipitacao_total':'float64'})\n",
    "bsb_2021 = pd.read_csv(r'C:\\Users\\Darlene\\Documents\\Exercícios de Programação\\Colab\\Trabalho_Estatistica\\Datasets_1\\2021\\2021_Brasilia.CSV', delimiter=';',dtype={'precipitacao_total':'float64'})\n",
    "cg_2021 = pd.read_csv(r'C:\\Users\\Darlene\\Documents\\Exercícios de Programação\\Colab\\Trabalho_Estatistica\\Datasets_1\\2021\\2021_Campo_Grande.CSV', delimiter=';',dtype={'precipitacao_total':'float64'})\n",
    "cb_2021 = pd.read_csv(r'C:\\Users\\Darlene\\Documents\\Exercícios de Programação\\Colab\\Trabalho_Estatistica\\Datasets_1\\2021\\2021_Curitiba.CSV', delimiter=';',dtype={'precipitacao_total':'float64'})\n",
    "manaus_2021 = pd.read_csv(r'C:\\Users\\Darlene\\Documents\\Exercícios de Programação\\Colab\\Trabalho_Estatistica\\Datasets_1\\2021\\2021_Manaus.CSV', delimiter=';',dtype={'precipitacao_total':'float64'})\n",
    "pa_2021 = pd.read_csv(r'C:\\Users\\Darlene\\Documents\\Exercícios de Programação\\Colab\\Trabalho_Estatistica\\Datasets_1\\2021\\2021_Porto_Alegre.CSV', delimiter=';',dtype={'precipitacao_total':'float64'})\n",
    "salvador_2021 = pd.read_csv(r'C:\\Users\\Darlene\\Documents\\Exercícios de Programação\\Colab\\Trabalho_Estatistica\\Datasets_1\\2021\\2021_Salvador.CSV', delimiter=';',dtype={'precipitacao_total':'float64'})\n",
    "sp_2021 = pd.read_csv(r'C:\\Users\\Darlene\\Documents\\Exercícios de Programação\\Colab\\Trabalho_Estatistica\\Datasets_1\\2021\\2021_Sao_Paulo.CSV', delimiter=';',dtype={'precipitacao_total':'float64'})\n",
    "teresina_2021 = pd.read_csv(r'C:\\Users\\Darlene\\Documents\\Exercícios de Programação\\Colab\\Trabalho_Estatistica\\Datasets_1\\2021\\2021_Teresina.CSV', delimiter=';',dtype={'precipitacao_total':'float64'})\n",
    "belem_2022 = pd.read_csv(r'C:\\Users\\Darlene\\Documents\\Exercícios de Programação\\Colab\\Trabalho_Estatistica\\Datasets_1\\2022\\2022_Belem.CSV', delimiter=';',dtype={'precipitacao_total':'float64'})\n",
    "bh_2022 = pd.read_csv(r'C:\\Users\\Darlene\\Documents\\Exercícios de Programação\\Colab\\Trabalho_Estatistica\\Datasets_1\\2022\\2022_Belo_Horizonte.CSV', delimiter=';',dtype={'precipitacao_total':'float64'})\n",
    "bsb_2022 = pd.read_csv(r'C:\\Users\\Darlene\\Documents\\Exercícios de Programação\\Colab\\Trabalho_Estatistica\\Datasets_1\\2022\\2022_Brasilia.CSV', delimiter=';',dtype={'precipitacao_total':'float64'})\n",
    "cg_2022 = pd.read_csv(r'C:\\Users\\Darlene\\Documents\\Exercícios de Programação\\Colab\\Trabalho_Estatistica\\Datasets_1\\2022\\2022_Campo_Grande.CSV', delimiter=';',dtype={'precipitacao_total':'float64'})\n",
    "cb_2022 = pd.read_csv(r'C:\\Users\\Darlene\\Documents\\Exercícios de Programação\\Colab\\Trabalho_Estatistica\\Datasets_1\\2022\\2022_Curitiba.CSV', delimiter=';',dtype={'precipitacao_total':'float64'})\n",
    "manaus_2022 = pd.read_csv(r'C:\\Users\\Darlene\\Documents\\Exercícios de Programação\\Colab\\Trabalho_Estatistica\\Datasets_1\\2022\\2022_Manaus.CSV', delimiter=';',dtype={'precipitacao_total':'float64'})\n",
    "pa_2022 = pd.read_csv(r'C:\\Users\\Darlene\\Documents\\Exercícios de Programação\\Colab\\Trabalho_Estatistica\\Datasets_1\\2022\\2022_Porto_Alegre.CSV', delimiter=';',dtype={'precipitacao_total':'float64'})\n",
    "salvador_2022 = pd.read_csv(r'C:\\Users\\Darlene\\Documents\\Exercícios de Programação\\Colab\\Trabalho_Estatistica\\Datasets_1\\2022\\2022_Salvador.CSV', delimiter=';',dtype={'precipitacao_total':'float64'})\n",
    "sp_2022 = pd.read_csv(r'C:\\Users\\Darlene\\Documents\\Exercícios de Programação\\Colab\\Trabalho_Estatistica\\Datasets_1\\2022\\2022_Sao_Paulo.CSV', delimiter=';',dtype={'precipitacao_total':'float64'})\n",
    "teresina_2022 = pd.read_csv(r'C:\\Users\\Darlene\\Documents\\Exercícios de Programação\\Colab\\Trabalho_Estatistica\\Datasets_1\\2022\\2022_Teresina.CSV', delimiter=';',dtype={'precipitacao_total':'float64'})\n",
    "belem_2023 = pd.read_csv(r'C:\\Users\\Darlene\\Documents\\Exercícios de Programação\\Colab\\Trabalho_Estatistica\\Datasets_1\\2023\\2023_Belem.CSV', delimiter=';',dtype={'precipitacao_total':'float64'})\n",
    "bh_2023 = pd.read_csv(r'C:\\Users\\Darlene\\Documents\\Exercícios de Programação\\Colab\\Trabalho_Estatistica\\Datasets_1\\2023\\2023_Belo_Horizonte.CSV', delimiter=';',dtype={'precipitacao_total':'float64'})\n",
    "bsb_2023 = pd.read_csv(r'C:\\Users\\Darlene\\Documents\\Exercícios de Programação\\Colab\\Trabalho_Estatistica\\Datasets_1\\2023\\2023_Brasilia.CSV', delimiter=';',dtype={'precipitacao_total':'float64'})\n",
    "cg_2023 = pd.read_csv(r'C:\\Users\\Darlene\\Documents\\Exercícios de Programação\\Colab\\Trabalho_Estatistica\\Datasets_1\\2023\\2023_Campo_Grande.CSV', delimiter=';',dtype={'precipitacao_total':'float64'})\n",
    "cb_2023 = pd.read_csv(r'C:\\Users\\Darlene\\Documents\\Exercícios de Programação\\Colab\\Trabalho_Estatistica\\Datasets_1\\2023\\2023_Curitiba.CSV', delimiter=';',dtype={'precipitacao_total':'float64'})\n",
    "manaus_2023 = pd.read_csv(r'C:\\Users\\Darlene\\Documents\\Exercícios de Programação\\Colab\\Trabalho_Estatistica\\Datasets_1\\2023\\2023_Manaus.CSV', delimiter=';',dtype={'precipitacao_total':'float64'})\n",
    "pa_2023 = pd.read_csv(r'C:\\Users\\Darlene\\Documents\\Exercícios de Programação\\Colab\\Trabalho_Estatistica\\Datasets_1\\2023\\2023_Porto_Alegre.CSV', delimiter=';',dtype={'precipitacao_total':'float64'})\n",
    "salvador_2023 = pd.read_csv(r'C:\\Users\\Darlene\\Documents\\Exercícios de Programação\\Colab\\Trabalho_Estatistica\\Datasets_1\\2023\\2023_Salvador.CSV', delimiter=';',dtype={'precipitacao_total':'float64'})\n",
    "sp_2023 = pd.read_csv(r'C:\\Users\\Darlene\\Documents\\Exercícios de Programação\\Colab\\Trabalho_Estatistica\\Datasets_1\\2023\\2023_Sao_Paulo.CSV', delimiter=';',dtype={'precipitacao_total':'float64'})\n",
    "teresina_2023 = pd.read_csv(r'C:\\Users\\Darlene\\Documents\\Exercícios de Programação\\Colab\\Trabalho_Estatistica\\Datasets_1\\2023\\2023_Teresina.CSV', delimiter=';',dtype={'precipitacao_total':'float64'})"
   ]
  },
  {
   "cell_type": "markdown",
   "metadata": {},
   "source": [
    "##Adicionando coluna para cidades"
   ]
  },
  {
   "cell_type": "code",
   "execution_count": 5,
   "metadata": {},
   "outputs": [
    {
     "ename": "AttributeError",
     "evalue": "module 'numpy' has no attribute 'matrix'",
     "output_type": "error",
     "traceback": [
      "\u001b[1;31m---------------------------------------------------------------------------\u001b[0m",
      "\u001b[1;31mKeyError\u001b[0m                                  Traceback (most recent call last)",
      "File \u001b[1;32m~\\AppData\\Local\\Packages\\PythonSoftwareFoundation.Python.3.12_qbz5n2kfra8p0\\LocalCache\\local-packages\\Python312\\site-packages\\pandas\\core\\indexes\\base.py:3805\u001b[0m, in \u001b[0;36mIndex.get_loc\u001b[1;34m(self, key)\u001b[0m\n\u001b[0;32m   3804\u001b[0m \u001b[38;5;28;01mtry\u001b[39;00m:\n\u001b[1;32m-> 3805\u001b[0m     \u001b[38;5;28;01mreturn\u001b[39;00m \u001b[38;5;28;43mself\u001b[39;49m\u001b[38;5;241;43m.\u001b[39;49m\u001b[43m_engine\u001b[49m\u001b[38;5;241;43m.\u001b[39;49m\u001b[43mget_loc\u001b[49m\u001b[43m(\u001b[49m\u001b[43mcasted_key\u001b[49m\u001b[43m)\u001b[49m\n\u001b[0;32m   3806\u001b[0m \u001b[38;5;28;01mexcept\u001b[39;00m \u001b[38;5;167;01mKeyError\u001b[39;00m \u001b[38;5;28;01mas\u001b[39;00m err:\n",
      "File \u001b[1;32mindex.pyx:167\u001b[0m, in \u001b[0;36mpandas._libs.index.IndexEngine.get_loc\u001b[1;34m()\u001b[0m\n",
      "File \u001b[1;32mindex.pyx:196\u001b[0m, in \u001b[0;36mpandas._libs.index.IndexEngine.get_loc\u001b[1;34m()\u001b[0m\n",
      "File \u001b[1;32mpandas\\\\_libs\\\\hashtable_class_helper.pxi:7081\u001b[0m, in \u001b[0;36mpandas._libs.hashtable.PyObjectHashTable.get_item\u001b[1;34m()\u001b[0m\n",
      "File \u001b[1;32mpandas\\\\_libs\\\\hashtable_class_helper.pxi:7089\u001b[0m, in \u001b[0;36mpandas._libs.hashtable.PyObjectHashTable.get_item\u001b[1;34m()\u001b[0m\n",
      "\u001b[1;31mKeyError\u001b[0m: 'Cidade'",
      "\nThe above exception was the direct cause of the following exception:\n",
      "\u001b[1;31mKeyError\u001b[0m                                  Traceback (most recent call last)",
      "File \u001b[1;32m~\\AppData\\Local\\Packages\\PythonSoftwareFoundation.Python.3.12_qbz5n2kfra8p0\\LocalCache\\local-packages\\Python312\\site-packages\\pandas\\core\\frame.py:4485\u001b[0m, in \u001b[0;36mDataFrame._set_item_mgr\u001b[1;34m(self, key, value, refs)\u001b[0m\n\u001b[0;32m   4484\u001b[0m \u001b[38;5;28;01mtry\u001b[39;00m:\n\u001b[1;32m-> 4485\u001b[0m     loc \u001b[38;5;241m=\u001b[39m \u001b[38;5;28;43mself\u001b[39;49m\u001b[38;5;241;43m.\u001b[39;49m\u001b[43m_info_axis\u001b[49m\u001b[38;5;241;43m.\u001b[39;49m\u001b[43mget_loc\u001b[49m\u001b[43m(\u001b[49m\u001b[43mkey\u001b[49m\u001b[43m)\u001b[49m\n\u001b[0;32m   4486\u001b[0m \u001b[38;5;28;01mexcept\u001b[39;00m \u001b[38;5;167;01mKeyError\u001b[39;00m:\n\u001b[0;32m   4487\u001b[0m     \u001b[38;5;66;03m# This item wasn't present, just insert at end\u001b[39;00m\n",
      "File \u001b[1;32m~\\AppData\\Local\\Packages\\PythonSoftwareFoundation.Python.3.12_qbz5n2kfra8p0\\LocalCache\\local-packages\\Python312\\site-packages\\pandas\\core\\indexes\\base.py:3812\u001b[0m, in \u001b[0;36mIndex.get_loc\u001b[1;34m(self, key)\u001b[0m\n\u001b[0;32m   3811\u001b[0m         \u001b[38;5;28;01mraise\u001b[39;00m InvalidIndexError(key)\n\u001b[1;32m-> 3812\u001b[0m     \u001b[38;5;28;01mraise\u001b[39;00m \u001b[38;5;167;01mKeyError\u001b[39;00m(key) \u001b[38;5;28;01mfrom\u001b[39;00m \u001b[38;5;21;01merr\u001b[39;00m\n\u001b[0;32m   3813\u001b[0m \u001b[38;5;28;01mexcept\u001b[39;00m \u001b[38;5;167;01mTypeError\u001b[39;00m:\n\u001b[0;32m   3814\u001b[0m     \u001b[38;5;66;03m# If we have a listlike key, _check_indexing_error will raise\u001b[39;00m\n\u001b[0;32m   3815\u001b[0m     \u001b[38;5;66;03m#  InvalidIndexError. Otherwise we fall through and re-raise\u001b[39;00m\n\u001b[0;32m   3816\u001b[0m     \u001b[38;5;66;03m#  the TypeError.\u001b[39;00m\n",
      "\u001b[1;31mKeyError\u001b[0m: 'Cidade'",
      "\nDuring handling of the above exception, another exception occurred:\n",
      "\u001b[1;31mAttributeError\u001b[0m                            Traceback (most recent call last)",
      "Cell \u001b[1;32mIn[5], line 1\u001b[0m\n\u001b[1;32m----> 1\u001b[0m \u001b[43mbelem_2014\u001b[49m\u001b[43m[\u001b[49m\u001b[38;5;124;43m'\u001b[39;49m\u001b[38;5;124;43mCidade\u001b[39;49m\u001b[38;5;124;43m'\u001b[39;49m\u001b[43m]\u001b[49m \u001b[38;5;241m=\u001b[39m \u001b[38;5;124m'\u001b[39m\u001b[38;5;124mBelém\u001b[39m\u001b[38;5;124m'\u001b[39m\n\u001b[0;32m      2\u001b[0m bh_2014[\u001b[38;5;124m'\u001b[39m\u001b[38;5;124mCidade\u001b[39m\u001b[38;5;124m'\u001b[39m] \u001b[38;5;241m=\u001b[39m \u001b[38;5;124m'\u001b[39m\u001b[38;5;124mBelo+Horizonte\u001b[39m\u001b[38;5;124m'\u001b[39m\n\u001b[0;32m      3\u001b[0m bsb_2014[\u001b[38;5;124m'\u001b[39m\u001b[38;5;124mCidade\u001b[39m\u001b[38;5;124m'\u001b[39m] \u001b[38;5;241m=\u001b[39m \u001b[38;5;124m'\u001b[39m\u001b[38;5;124mBrasília\u001b[39m\u001b[38;5;124m'\u001b[39m\n",
      "File \u001b[1;32m~\\AppData\\Local\\Packages\\PythonSoftwareFoundation.Python.3.12_qbz5n2kfra8p0\\LocalCache\\local-packages\\Python312\\site-packages\\pandas\\core\\frame.py:4311\u001b[0m, in \u001b[0;36mDataFrame.__setitem__\u001b[1;34m(self, key, value)\u001b[0m\n\u001b[0;32m   4308\u001b[0m     \u001b[38;5;28mself\u001b[39m\u001b[38;5;241m.\u001b[39m_setitem_array([key], value)\n\u001b[0;32m   4309\u001b[0m \u001b[38;5;28;01melse\u001b[39;00m:\n\u001b[0;32m   4310\u001b[0m     \u001b[38;5;66;03m# set column\u001b[39;00m\n\u001b[1;32m-> 4311\u001b[0m     \u001b[38;5;28;43mself\u001b[39;49m\u001b[38;5;241;43m.\u001b[39;49m\u001b[43m_set_item\u001b[49m\u001b[43m(\u001b[49m\u001b[43mkey\u001b[49m\u001b[43m,\u001b[49m\u001b[43m \u001b[49m\u001b[43mvalue\u001b[49m\u001b[43m)\u001b[49m\n",
      "File \u001b[1;32m~\\AppData\\Local\\Packages\\PythonSoftwareFoundation.Python.3.12_qbz5n2kfra8p0\\LocalCache\\local-packages\\Python312\\site-packages\\pandas\\core\\frame.py:4538\u001b[0m, in \u001b[0;36mDataFrame._set_item\u001b[1;34m(self, key, value)\u001b[0m\n\u001b[0;32m   4535\u001b[0m             value \u001b[38;5;241m=\u001b[39m np\u001b[38;5;241m.\u001b[39mtile(value, (\u001b[38;5;28mlen\u001b[39m(existing_piece\u001b[38;5;241m.\u001b[39mcolumns), \u001b[38;5;241m1\u001b[39m))\u001b[38;5;241m.\u001b[39mT\n\u001b[0;32m   4536\u001b[0m             refs \u001b[38;5;241m=\u001b[39m \u001b[38;5;28;01mNone\u001b[39;00m\n\u001b[1;32m-> 4538\u001b[0m \u001b[38;5;28;43mself\u001b[39;49m\u001b[38;5;241;43m.\u001b[39;49m\u001b[43m_set_item_mgr\u001b[49m\u001b[43m(\u001b[49m\u001b[43mkey\u001b[49m\u001b[43m,\u001b[49m\u001b[43m \u001b[49m\u001b[43mvalue\u001b[49m\u001b[43m,\u001b[49m\u001b[43m \u001b[49m\u001b[43mrefs\u001b[49m\u001b[43m)\u001b[49m\n",
      "File \u001b[1;32m~\\AppData\\Local\\Packages\\PythonSoftwareFoundation.Python.3.12_qbz5n2kfra8p0\\LocalCache\\local-packages\\Python312\\site-packages\\pandas\\core\\frame.py:4488\u001b[0m, in \u001b[0;36mDataFrame._set_item_mgr\u001b[1;34m(self, key, value, refs)\u001b[0m\n\u001b[0;32m   4485\u001b[0m     loc \u001b[38;5;241m=\u001b[39m \u001b[38;5;28mself\u001b[39m\u001b[38;5;241m.\u001b[39m_info_axis\u001b[38;5;241m.\u001b[39mget_loc(key)\n\u001b[0;32m   4486\u001b[0m \u001b[38;5;28;01mexcept\u001b[39;00m \u001b[38;5;167;01mKeyError\u001b[39;00m:\n\u001b[0;32m   4487\u001b[0m     \u001b[38;5;66;03m# This item wasn't present, just insert at end\u001b[39;00m\n\u001b[1;32m-> 4488\u001b[0m     \u001b[38;5;28;43mself\u001b[39;49m\u001b[38;5;241;43m.\u001b[39;49m\u001b[43m_mgr\u001b[49m\u001b[38;5;241;43m.\u001b[39;49m\u001b[43minsert\u001b[49m\u001b[43m(\u001b[49m\u001b[38;5;28;43mlen\u001b[39;49m\u001b[43m(\u001b[49m\u001b[38;5;28;43mself\u001b[39;49m\u001b[38;5;241;43m.\u001b[39;49m\u001b[43m_info_axis\u001b[49m\u001b[43m)\u001b[49m\u001b[43m,\u001b[49m\u001b[43m \u001b[49m\u001b[43mkey\u001b[49m\u001b[43m,\u001b[49m\u001b[43m \u001b[49m\u001b[43mvalue\u001b[49m\u001b[43m,\u001b[49m\u001b[43m \u001b[49m\u001b[43mrefs\u001b[49m\u001b[43m)\u001b[49m\n\u001b[0;32m   4489\u001b[0m \u001b[38;5;28;01melse\u001b[39;00m:\n\u001b[0;32m   4490\u001b[0m     \u001b[38;5;28mself\u001b[39m\u001b[38;5;241m.\u001b[39m_iset_item_mgr(loc, value, refs\u001b[38;5;241m=\u001b[39mrefs)\n",
      "File \u001b[1;32m~\\AppData\\Local\\Packages\\PythonSoftwareFoundation.Python.3.12_qbz5n2kfra8p0\\LocalCache\\local-packages\\Python312\\site-packages\\pandas\\core\\internals\\managers.py:1385\u001b[0m, in \u001b[0;36mBlockManager.insert\u001b[1;34m(self, loc, item, value, refs)\u001b[0m\n\u001b[0;32m   1383\u001b[0m \u001b[38;5;28;01melse\u001b[39;00m:\n\u001b[0;32m   1384\u001b[0m     \u001b[38;5;28mself\u001b[39m\u001b[38;5;241m.\u001b[39m_insert_update_mgr_locs(loc)\n\u001b[1;32m-> 1385\u001b[0m     \u001b[38;5;28;43mself\u001b[39;49m\u001b[38;5;241;43m.\u001b[39;49m\u001b[43m_insert_update_blklocs_and_blknos\u001b[49m\u001b[43m(\u001b[49m\u001b[43mloc\u001b[49m\u001b[43m)\u001b[49m\n\u001b[0;32m   1387\u001b[0m \u001b[38;5;28mself\u001b[39m\u001b[38;5;241m.\u001b[39maxes[\u001b[38;5;241m0\u001b[39m] \u001b[38;5;241m=\u001b[39m new_axis\n\u001b[0;32m   1388\u001b[0m \u001b[38;5;28mself\u001b[39m\u001b[38;5;241m.\u001b[39mblocks \u001b[38;5;241m+\u001b[39m\u001b[38;5;241m=\u001b[39m (block,)\n",
      "File \u001b[1;32m~\\AppData\\Local\\Packages\\PythonSoftwareFoundation.Python.3.12_qbz5n2kfra8p0\\LocalCache\\local-packages\\Python312\\site-packages\\pandas\\core\\internals\\managers.py:1421\u001b[0m, in \u001b[0;36mBlockManager._insert_update_blklocs_and_blknos\u001b[1;34m(self, loc)\u001b[0m\n\u001b[0;32m   1418\u001b[0m \u001b[38;5;66;03m# Accessing public blklocs ensures the public versions are initialized\u001b[39;00m\n\u001b[0;32m   1419\u001b[0m \u001b[38;5;28;01mif\u001b[39;00m loc \u001b[38;5;241m==\u001b[39m \u001b[38;5;28mself\u001b[39m\u001b[38;5;241m.\u001b[39mblklocs\u001b[38;5;241m.\u001b[39mshape[\u001b[38;5;241m0\u001b[39m]:\n\u001b[0;32m   1420\u001b[0m     \u001b[38;5;66;03m# np.append is a lot faster, let's use it if we can.\u001b[39;00m\n\u001b[1;32m-> 1421\u001b[0m     \u001b[38;5;28mself\u001b[39m\u001b[38;5;241m.\u001b[39m_blklocs \u001b[38;5;241m=\u001b[39m \u001b[43mnp\u001b[49m\u001b[38;5;241;43m.\u001b[39;49m\u001b[43mappend\u001b[49m\u001b[43m(\u001b[49m\u001b[38;5;28;43mself\u001b[39;49m\u001b[38;5;241;43m.\u001b[39;49m\u001b[43m_blklocs\u001b[49m\u001b[43m,\u001b[49m\u001b[43m \u001b[49m\u001b[38;5;241;43m0\u001b[39;49m\u001b[43m)\u001b[49m\n\u001b[0;32m   1422\u001b[0m     \u001b[38;5;28mself\u001b[39m\u001b[38;5;241m.\u001b[39m_blknos \u001b[38;5;241m=\u001b[39m np\u001b[38;5;241m.\u001b[39mappend(\u001b[38;5;28mself\u001b[39m\u001b[38;5;241m.\u001b[39m_blknos, \u001b[38;5;28mlen\u001b[39m(\u001b[38;5;28mself\u001b[39m\u001b[38;5;241m.\u001b[39mblocks))\n\u001b[0;32m   1423\u001b[0m \u001b[38;5;28;01melif\u001b[39;00m loc \u001b[38;5;241m==\u001b[39m \u001b[38;5;241m0\u001b[39m:\n\u001b[0;32m   1424\u001b[0m     \u001b[38;5;66;03m# np.append is a lot faster, let's use it if we can.\u001b[39;00m\n",
      "File \u001b[1;32m~\\AppData\\Local\\Packages\\PythonSoftwareFoundation.Python.3.12_qbz5n2kfra8p0\\LocalCache\\local-packages\\Python312\\site-packages\\numpy\\lib\\function_base.py:5616\u001b[0m, in \u001b[0;36mappend\u001b[1;34m(arr, values, axis)\u001b[0m\n\u001b[0;32m   5614\u001b[0m     \u001b[38;5;28;01mif\u001b[39;00m arr\u001b[38;5;241m.\u001b[39mndim \u001b[38;5;241m!=\u001b[39m \u001b[38;5;241m1\u001b[39m:\n\u001b[0;32m   5615\u001b[0m         arr \u001b[38;5;241m=\u001b[39m arr\u001b[38;5;241m.\u001b[39mravel()\n\u001b[1;32m-> 5616\u001b[0m     values \u001b[38;5;241m=\u001b[39m \u001b[43mravel\u001b[49m\u001b[43m(\u001b[49m\u001b[43mvalues\u001b[49m\u001b[43m)\u001b[49m\n\u001b[0;32m   5617\u001b[0m     axis \u001b[38;5;241m=\u001b[39m arr\u001b[38;5;241m.\u001b[39mndim\u001b[38;5;241m-\u001b[39m\u001b[38;5;241m1\u001b[39m\n\u001b[0;32m   5618\u001b[0m \u001b[38;5;28;01mreturn\u001b[39;00m concatenate((arr, values), axis\u001b[38;5;241m=\u001b[39maxis)\n",
      "File \u001b[1;32m~\\AppData\\Local\\Packages\\PythonSoftwareFoundation.Python.3.12_qbz5n2kfra8p0\\LocalCache\\local-packages\\Python312\\site-packages\\numpy\\core\\fromnumeric.py:1871\u001b[0m, in \u001b[0;36mravel\u001b[1;34m(a, order)\u001b[0m\n\u001b[0;32m   1768\u001b[0m \u001b[38;5;129m@array_function_dispatch\u001b[39m(_ravel_dispatcher)\n\u001b[0;32m   1769\u001b[0m \u001b[38;5;28;01mdef\u001b[39;00m \u001b[38;5;21mravel\u001b[39m(a, order\u001b[38;5;241m=\u001b[39m\u001b[38;5;124m'\u001b[39m\u001b[38;5;124mC\u001b[39m\u001b[38;5;124m'\u001b[39m):\n\u001b[0;32m   1770\u001b[0m \u001b[38;5;250m    \u001b[39m\u001b[38;5;124;03m\"\"\"Return a contiguous flattened array.\u001b[39;00m\n\u001b[0;32m   1771\u001b[0m \n\u001b[0;32m   1772\u001b[0m \u001b[38;5;124;03m    A 1-D array, containing the elements of the input, is returned.  A copy is\u001b[39;00m\n\u001b[1;32m   (...)\u001b[0m\n\u001b[0;32m   1869\u001b[0m \n\u001b[0;32m   1870\u001b[0m \u001b[38;5;124;03m    \"\"\"\u001b[39;00m\n\u001b[1;32m-> 1871\u001b[0m     \u001b[38;5;28;01mif\u001b[39;00m \u001b[38;5;28misinstance\u001b[39m(a, \u001b[43mnp\u001b[49m\u001b[38;5;241;43m.\u001b[39;49m\u001b[43mmatrix\u001b[49m):\n\u001b[0;32m   1872\u001b[0m         \u001b[38;5;28;01mreturn\u001b[39;00m asarray(a)\u001b[38;5;241m.\u001b[39mravel(order\u001b[38;5;241m=\u001b[39morder)\n\u001b[0;32m   1873\u001b[0m     \u001b[38;5;28;01melse\u001b[39;00m:\n",
      "\u001b[1;31mAttributeError\u001b[0m: module 'numpy' has no attribute 'matrix'"
     ]
    }
   ],
   "source": [
    "belem_2014['Cidade'] = 'Belém'\n",
    "bh_2014['Cidade'] = 'Belo+Horizonte'\n",
    "bsb_2014['Cidade'] = 'Brasília'\n",
    "cg_2014['Cidade'] = 'Campo_Grande'\n",
    "cb_2014['Cidade'] = 'Curitiba'\n",
    "manaus_2014['Cidade'] = 'Manaus'\n",
    "pa_2014['Cidade'] = 'Porto_Alegre'\n",
    "salvador_2014['Cidade'] = 'Salvador'\n",
    "sp_2014['Cidade'] = 'Sao_Paulo'\n",
    "teresina_2014['Cidade'] = 'Teresina'\n",
    "belem_2015['Cidade'] = 'Belém'\n",
    "bh_2015['Cidade'] = 'Belo+Horizonte'\n",
    "bsb_2015['Cidade'] = 'Brasília'\n",
    "cg_2015['Cidade'] = 'Campo_Grande'\n",
    "cb_2015['Cidade'] = 'Curitiba'\n",
    "manaus_2015['Cidade'] = 'Manaus'\n",
    "pa_2015['Cidade'] = 'Porto_Alegre'\n",
    "salvador_2015['Cidade'] = 'Salvador'\n",
    "sp_2015['Cidade'] = 'Sao_Paulo'\n",
    "teresina_2015['Cidade'] = 'Teresina'\n",
    "belem_2016['Cidade'] = 'Belém'\n",
    "bh_2016['Cidade'] = 'Belo+Horizonte'\n",
    "bsb_2016['Cidade'] = 'Brasília'\n",
    "cg_2016['Cidade'] = 'Campo_Grande'\n",
    "cb_2016['Cidade'] = 'Curitiba'\n",
    "manaus_2016['Cidade'] = 'Manaus'\n",
    "pa_2016['Cidade'] = 'Porto_Alegre'\n",
    "salvador_2016['Cidade'] = 'Salvador'\n",
    "sp_2016['Cidade'] = 'Sao_Paulo'\n",
    "teresina_2016['Cidade'] = 'Teresina'\n",
    "belem_2017['Cidade'] = 'Belém'\n",
    "bh_2017['Cidade'] = 'Belo+Horizonte'\n",
    "bsb_2017['Cidade'] = 'Brasília'\n",
    "cg_2017['Cidade'] = 'Campo_Grande'\n",
    "cb_2017['Cidade'] = 'Curitiba'\n",
    "manaus_2017['Cidade'] = 'Manaus'\n",
    "pa_2017['Cidade'] = 'Porto_Alegre'\n",
    "salvador_2017['Cidade'] = 'Salvador'\n",
    "sp_2017['Cidade'] = 'Sao_Paulo'\n",
    "teresina_2017['Cidade'] = 'Teresina'\n",
    "belem_2018['Cidade'] = 'Belém'\n",
    "bh_2018['Cidade'] = 'Belo+Horizonte'\n",
    "bsb_2018['Cidade'] = 'Brasília'\n",
    "cg_2018['Cidade'] = 'Campo_Grande'\n",
    "cb_2018['Cidade'] = 'Curitiba'\n",
    "manaus_2018['Cidade'] = 'Manaus'\n",
    "pa_2018['Cidade'] = 'Porto_Alegre'\n",
    "salvador_2018['Cidade'] = 'Salvador'\n",
    "sp_2018['Cidade'] = 'Sao_Paulo'\n",
    "teresina_2018['Cidade'] = 'Teresina'\n",
    "belem_2019['Cidade'] = 'Belém'\n",
    "bh_2019['Cidade'] = 'Belo+Horizonte'\n",
    "bsb_2019['Cidade'] = 'Brasília'\n",
    "cg_2019['Cidade'] = 'Campo_Grande'\n",
    "cb_2019['Cidade'] = 'Curitiba'\n",
    "manaus_2019['Cidade'] = 'Manaus'\n",
    "pa_2019['Cidade'] = 'Porto_Alegre'\n",
    "salvador_2019['Cidade'] = 'Salvador'\n",
    "sp_2019['Cidade'] = 'Sao_Paulo'\n",
    "teresina_2019['Cidade'] = 'Teresina'\n",
    "belem_2020['Cidade'] = 'Belém'\n",
    "bh_2020['Cidade'] = 'Belo+Horizonte'\n",
    "bsb_2020['Cidade'] = 'Brasília'\n",
    "cg_2020['Cidade'] = 'Campo_Grande'\n",
    "cb_2020['Cidade'] = 'Curitiba'\n",
    "manaus_2020['Cidade'] = 'Manaus'\n",
    "pa_2020['Cidade'] = 'Porto_Alegre'\n",
    "salvador_2020['Cidade'] = 'Salvador'\n",
    "sp_2020['Cidade'] = 'Sao_Paulo'\n",
    "teresina_2020['Cidade'] = 'Teresina'\n",
    "belem_2021['Cidade'] = 'Belém'\n",
    "bh_2021['Cidade'] = 'Belo+Horizonte'\n",
    "bsb_2021['Cidade'] = 'Brasília'\n",
    "cg_2021['Cidade'] = 'Campo_Grande'\n",
    "cb_2021['Cidade'] = 'Curitiba'\n",
    "manaus_2021['Cidade'] = 'Manaus'\n",
    "pa_2021['Cidade'] = 'Porto_Alegre'\n",
    "salvador_2021['Cidade'] = 'Salvador'\n",
    "sp_2021['Cidade'] = 'Sao_Paulo'\n",
    "teresina_2021['Cidade'] = 'Teresina'\n",
    "belem_2022['Cidade'] = 'Belém'\n",
    "bh_2022['Cidade'] = 'Belo+Horizonte'\n",
    "bsb_2022['Cidade'] = 'Brasília'\n",
    "cg_2022['Cidade'] = 'Campo_Grande'\n",
    "cb_2022['Cidade'] = 'Curitiba'\n",
    "manaus_2022['Cidade'] = 'Manaus'\n",
    "pa_2022['Cidade'] = 'Porto_Alegre'\n",
    "salvador_2022['Cidade'] = 'Salvador'\n",
    "sp_2022['Cidade'] = 'Sao_Paulo'\n",
    "teresina_2022['Cidade'] = 'Teresina'\n",
    "belem_2023['Cidade'] = 'Belém'\n",
    "bh_2023['Cidade'] = 'Belo+Horizonte'\n",
    "bsb_2023['Cidade'] = 'Brasília'\n",
    "cg_2023['Cidade'] = 'Campo_Grande'\n",
    "cb_2023['Cidade'] = 'Curitiba'\n",
    "manaus_2023['Cidade'] = 'Manaus'\n",
    "pa_2023['Cidade'] = 'Porto_Alegre'\n",
    "salvador_2023['Cidade'] = 'Salvador'\n",
    "sp_2023['Cidade'] = 'Sao_Paulo'\n",
    "teresina_2023['Cidade'] = 'Teresina'"
   ]
  },
  {
   "cell_type": "markdown",
   "metadata": {},
   "source": [
    "##Concatenando todos os dataframes por ano"
   ]
  },
  {
   "cell_type": "code",
   "execution_count": 6,
   "metadata": {},
   "outputs": [],
   "source": [
    "df_2014 = pd.concat([belem_2014, bh_2014, bsb_2014, cg_2014, cb_2014, manaus_2014, pa_2014, salvador_2014, sp_2014, teresina_2014], ignore_index=True)\n",
    "df_2015 = pd.concat([belem_2015, bh_2015, bsb_2015, cg_2015, cb_2015, manaus_2015, pa_2015, salvador_2015, sp_2015, teresina_2015], ignore_index=True)\n",
    "df_2016 = pd.concat([belem_2016, bh_2016, bsb_2016, cg_2016, cb_2016, manaus_2016, pa_2016, salvador_2016, sp_2016, teresina_2016], ignore_index=True)\n",
    "df_2017 = pd.concat([belem_2017, bh_2017, bsb_2017, cg_2017, cb_2017, manaus_2017, pa_2017, salvador_2017, sp_2017, teresina_2017], ignore_index=True)\n",
    "df_2018 = pd.concat([belem_2018, bh_2018, bsb_2018, cg_2018, cb_2018, manaus_2018, pa_2018, salvador_2018, sp_2018, teresina_2018], ignore_index=True)\n",
    "df_2019 = pd.concat([belem_2019, bh_2019, bsb_2019, cg_2019, cb_2019, manaus_2019, pa_2019, salvador_2019, sp_2019, teresina_2019], ignore_index=True)\n",
    "df_2020 = pd.concat([belem_2020, bh_2020, bsb_2020, cg_2020, cb_2020, manaus_2020, pa_2020, salvador_2020, sp_2020, teresina_2020], ignore_index=True)\n",
    "df_2021 = pd.concat([belem_2021, bh_2021, bsb_2021, cg_2021, cb_2021, manaus_2021, pa_2021, salvador_2021, sp_2021, teresina_2021], ignore_index=True)\n",
    "df_2022 = pd.concat([belem_2022, bh_2022, bsb_2022, cg_2022, cb_2022, manaus_2022, pa_2022, salvador_2022, sp_2022, teresina_2022], ignore_index=True)\n",
    "df_2023 = pd.concat([belem_2023, bh_2023, bsb_2023, cg_2023, cb_2023, manaus_2023, pa_2023, salvador_2023, sp_2023, teresina_2023], ignore_index=True)\n"
   ]
  },
  {
   "cell_type": "markdown",
   "metadata": {},
   "source": [
    "##Concatenando todos os dataframes"
   ]
  },
  {
   "cell_type": "code",
   "execution_count": 7,
   "metadata": {},
   "outputs": [
    {
     "data": {
      "text/html": [
       "<div>\n",
       "<style scoped>\n",
       "    .dataframe tbody tr th:only-of-type {\n",
       "        vertical-align: middle;\n",
       "    }\n",
       "\n",
       "    .dataframe tbody tr th {\n",
       "        vertical-align: top;\n",
       "    }\n",
       "\n",
       "    .dataframe thead th {\n",
       "        text-align: right;\n",
       "    }\n",
       "</style>\n",
       "<table border=\"1\" class=\"dataframe\">\n",
       "  <thead>\n",
       "    <tr style=\"text-align: right;\">\n",
       "      <th></th>\n",
       "      <th>data</th>\n",
       "      <th>hora_utc</th>\n",
       "      <th>precipitacao_total</th>\n",
       "      <th>pressao_atmosferica</th>\n",
       "      <th>pressao_max_anterior</th>\n",
       "      <th>pressao_min_anterior</th>\n",
       "      <th>radiacao_global</th>\n",
       "      <th>temperatura_ar</th>\n",
       "      <th>temperatura_orvalho</th>\n",
       "      <th>temperatura_max_anterior</th>\n",
       "      <th>temperatura_min_anterior</th>\n",
       "      <th>orvalho_max_anterior</th>\n",
       "      <th>orvalho_min_anterior</th>\n",
       "      <th>umidade_rel_max_anterior</th>\n",
       "      <th>umidade_rel_min_anterior</th>\n",
       "      <th>umidade_relativa</th>\n",
       "      <th>direcao_vento</th>\n",
       "      <th>rajada_maxima</th>\n",
       "      <th>velocidade_vento</th>\n",
       "    </tr>\n",
       "  </thead>\n",
       "  <tbody>\n",
       "    <tr>\n",
       "      <th>0</th>\n",
       "      <td>01/01/2014</td>\n",
       "      <td>00:00</td>\n",
       "      <td>0.0</td>\n",
       "      <td>1007.3</td>\n",
       "      <td>1007.3</td>\n",
       "      <td>1006.6</td>\n",
       "      <td>-9999.0</td>\n",
       "      <td>27.7</td>\n",
       "      <td>21.4</td>\n",
       "      <td>29.1</td>\n",
       "      <td>27.7</td>\n",
       "      <td>22.0</td>\n",
       "      <td>21.3</td>\n",
       "      <td>69.0</td>\n",
       "      <td>65.0</td>\n",
       "      <td>69.0</td>\n",
       "      <td>59.0</td>\n",
       "      <td>5.4</td>\n",
       "      <td>0.9</td>\n",
       "    </tr>\n",
       "    <tr>\n",
       "      <th>1</th>\n",
       "      <td>01/01/2014</td>\n",
       "      <td>01:00</td>\n",
       "      <td>0.0</td>\n",
       "      <td>1007.5</td>\n",
       "      <td>1007.5</td>\n",
       "      <td>1007.3</td>\n",
       "      <td>-9999.0</td>\n",
       "      <td>26.5</td>\n",
       "      <td>21.1</td>\n",
       "      <td>27.7</td>\n",
       "      <td>26.5</td>\n",
       "      <td>21.4</td>\n",
       "      <td>21.1</td>\n",
       "      <td>72.0</td>\n",
       "      <td>69.0</td>\n",
       "      <td>72.0</td>\n",
       "      <td>68.0</td>\n",
       "      <td>4.9</td>\n",
       "      <td>0.6</td>\n",
       "    </tr>\n",
       "    <tr>\n",
       "      <th>2</th>\n",
       "      <td>01/01/2014</td>\n",
       "      <td>02:00</td>\n",
       "      <td>0.0</td>\n",
       "      <td>1007.6</td>\n",
       "      <td>1007.6</td>\n",
       "      <td>1007.5</td>\n",
       "      <td>-9999.0</td>\n",
       "      <td>25.6</td>\n",
       "      <td>21.2</td>\n",
       "      <td>26.5</td>\n",
       "      <td>25.6</td>\n",
       "      <td>21.2</td>\n",
       "      <td>21.1</td>\n",
       "      <td>77.0</td>\n",
       "      <td>72.0</td>\n",
       "      <td>77.0</td>\n",
       "      <td>88.0</td>\n",
       "      <td>3.7</td>\n",
       "      <td>1.1</td>\n",
       "    </tr>\n",
       "    <tr>\n",
       "      <th>3</th>\n",
       "      <td>01/01/2014</td>\n",
       "      <td>03:00</td>\n",
       "      <td>0.0</td>\n",
       "      <td>1007.3</td>\n",
       "      <td>1007.7</td>\n",
       "      <td>1007.3</td>\n",
       "      <td>-9999.0</td>\n",
       "      <td>25.0</td>\n",
       "      <td>21.4</td>\n",
       "      <td>25.6</td>\n",
       "      <td>25.0</td>\n",
       "      <td>21.4</td>\n",
       "      <td>21.2</td>\n",
       "      <td>81.0</td>\n",
       "      <td>77.0</td>\n",
       "      <td>81.0</td>\n",
       "      <td>83.0</td>\n",
       "      <td>3.1</td>\n",
       "      <td>0.7</td>\n",
       "    </tr>\n",
       "    <tr>\n",
       "      <th>4</th>\n",
       "      <td>01/01/2014</td>\n",
       "      <td>04:00</td>\n",
       "      <td>0.0</td>\n",
       "      <td>1006.9</td>\n",
       "      <td>1007.4</td>\n",
       "      <td>1006.9</td>\n",
       "      <td>-9999.0</td>\n",
       "      <td>24.6</td>\n",
       "      <td>21.5</td>\n",
       "      <td>25.0</td>\n",
       "      <td>24.6</td>\n",
       "      <td>21.5</td>\n",
       "      <td>21.4</td>\n",
       "      <td>83.0</td>\n",
       "      <td>81.0</td>\n",
       "      <td>83.0</td>\n",
       "      <td>81.0</td>\n",
       "      <td>3.1</td>\n",
       "      <td>0.6</td>\n",
       "    </tr>\n",
       "  </tbody>\n",
       "</table>\n",
       "</div>"
      ],
      "text/plain": [
       "         data hora_utc  precipitacao_total  pressao_atmosferica  \\\n",
       "0  01/01/2014    00:00                 0.0               1007.3   \n",
       "1  01/01/2014    01:00                 0.0               1007.5   \n",
       "2  01/01/2014    02:00                 0.0               1007.6   \n",
       "3  01/01/2014    03:00                 0.0               1007.3   \n",
       "4  01/01/2014    04:00                 0.0               1006.9   \n",
       "\n",
       "   pressao_max_anterior  pressao_min_anterior  radiacao_global  \\\n",
       "0                1007.3                1006.6          -9999.0   \n",
       "1                1007.5                1007.3          -9999.0   \n",
       "2                1007.6                1007.5          -9999.0   \n",
       "3                1007.7                1007.3          -9999.0   \n",
       "4                1007.4                1006.9          -9999.0   \n",
       "\n",
       "   temperatura_ar  temperatura_orvalho  temperatura_max_anterior  \\\n",
       "0            27.7                 21.4                      29.1   \n",
       "1            26.5                 21.1                      27.7   \n",
       "2            25.6                 21.2                      26.5   \n",
       "3            25.0                 21.4                      25.6   \n",
       "4            24.6                 21.5                      25.0   \n",
       "\n",
       "   temperatura_min_anterior  orvalho_max_anterior  orvalho_min_anterior  \\\n",
       "0                      27.7                  22.0                  21.3   \n",
       "1                      26.5                  21.4                  21.1   \n",
       "2                      25.6                  21.2                  21.1   \n",
       "3                      25.0                  21.4                  21.2   \n",
       "4                      24.6                  21.5                  21.4   \n",
       "\n",
       "   umidade_rel_max_anterior  umidade_rel_min_anterior  umidade_relativa  \\\n",
       "0                      69.0                      65.0              69.0   \n",
       "1                      72.0                      69.0              72.0   \n",
       "2                      77.0                      72.0              77.0   \n",
       "3                      81.0                      77.0              81.0   \n",
       "4                      83.0                      81.0              83.0   \n",
       "\n",
       "   direcao_vento  rajada_maxima  velocidade_vento  \n",
       "0           59.0            5.4               0.9  \n",
       "1           68.0            4.9               0.6  \n",
       "2           88.0            3.7               1.1  \n",
       "3           83.0            3.1               0.7  \n",
       "4           81.0            3.1               0.6  "
      ]
     },
     "execution_count": 7,
     "metadata": {},
     "output_type": "execute_result"
    }
   ],
   "source": [
    "all_df = pd.concat([df_2014, df_2015, df_2016, df_2017, df_2018, df_2019, df_2020, df_2021, df_2022,df_2023], ignore_index=True)\n",
    "all_df.head()"
   ]
  },
  {
   "cell_type": "code",
   "execution_count": 8,
   "metadata": {},
   "outputs": [
    {
     "data": {
      "text/plain": [
       "data                         object\n",
       "hora_utc                     object\n",
       "precipitacao_total          float64\n",
       "pressao_atmosferica         float64\n",
       "pressao_max_anterior        float64\n",
       "pressao_min_anterior        float64\n",
       "radiacao_global             float64\n",
       "temperatura_ar              float64\n",
       "temperatura_orvalho         float64\n",
       "temperatura_max_anterior    float64\n",
       "temperatura_min_anterior    float64\n",
       "orvalho_max_anterior        float64\n",
       "orvalho_min_anterior        float64\n",
       "umidade_rel_max_anterior    float64\n",
       "umidade_rel_min_anterior    float64\n",
       "umidade_relativa            float64\n",
       "direcao_vento               float64\n",
       "rajada_maxima               float64\n",
       "velocidade_vento            float64\n",
       "dtype: object"
      ]
     },
     "execution_count": 8,
     "metadata": {},
     "output_type": "execute_result"
    }
   ],
   "source": [
    "all_df.dtypes"
   ]
  },
  {
   "cell_type": "code",
   "execution_count": null,
   "metadata": {},
   "outputs": [
    {
     "data": {
      "text/plain": [
       "data                            0\n",
       "hora_utc                        0\n",
       "precipitacao_total           5465\n",
       "pressao_atmosferica          5080\n",
       "pressao_max_anterior         5106\n",
       "pressao_min_anterior         5106\n",
       "radiacao_global             43092\n",
       "temperatura_ar               5080\n",
       "temperatura_orvalho          5089\n",
       "temperatura_max_anterior     5106\n",
       "temperatura_min_anterior     5106\n",
       "orvalho_max_anterior         5115\n",
       "orvalho_min_anterior         5115\n",
       "umidade_rel_max_anterior     5115\n",
       "umidade_rel_min_anterior     5115\n",
       "umidade_relativa             5089\n",
       "direcao_vento                5444\n",
       "rajada_maxima                5474\n",
       "velocidade_vento             5433\n",
       "Cidade                          0\n",
       "dtype: int64"
      ]
     },
     "execution_count": 6,
     "metadata": {},
     "output_type": "execute_result"
    }
   ],
   "source": [
    "#df_2014[df_2014 == -9999.000000].count()"
   ]
  },
  {
   "cell_type": "code",
   "execution_count": null,
   "metadata": {},
   "outputs": [],
   "source": [
    "#medias = [media_bsb_2014, media_bsb_2015, media_bsb_2016]"
   ]
  },
  {
   "cell_type": "code",
   "execution_count": null,
   "metadata": {},
   "outputs": [],
   "source": [
    "#plt.plot(medias)"
   ]
  },
  {
   "cell_type": "code",
   "execution_count": null,
   "metadata": {},
   "outputs": [
    {
     "data": {
      "text/html": [
       "<div>\n",
       "<style scoped>\n",
       "    .dataframe tbody tr th:only-of-type {\n",
       "        vertical-align: middle;\n",
       "    }\n",
       "\n",
       "    .dataframe tbody tr th {\n",
       "        vertical-align: top;\n",
       "    }\n",
       "\n",
       "    .dataframe thead th {\n",
       "        text-align: right;\n",
       "    }\n",
       "</style>\n",
       "<table border=\"1\" class=\"dataframe\">\n",
       "  <thead>\n",
       "    <tr style=\"text-align: right;\">\n",
       "      <th></th>\n",
       "      <th>data</th>\n",
       "      <th>hora_utc</th>\n",
       "      <th>precipitacao_total</th>\n",
       "      <th>pressao_atmosferica</th>\n",
       "      <th>pressao_max_anterior</th>\n",
       "      <th>pressao_min_anterior</th>\n",
       "      <th>radiacao_global</th>\n",
       "      <th>temperatura_ar</th>\n",
       "      <th>temperatura_orvalho</th>\n",
       "      <th>temperatura_max_anterior</th>\n",
       "      <th>temperatura_min_anterior</th>\n",
       "      <th>orvalho_max_anterior</th>\n",
       "      <th>orvalho_min_anterior</th>\n",
       "      <th>umidade_rel_max_anterior</th>\n",
       "      <th>umidade_rel_min_anterior</th>\n",
       "      <th>umidade_relativa</th>\n",
       "      <th>direcao_vento</th>\n",
       "      <th>rajada_maxima</th>\n",
       "      <th>velocidade_vento</th>\n",
       "      <th>Cidade</th>\n",
       "    </tr>\n",
       "  </thead>\n",
       "  <tbody>\n",
       "    <tr>\n",
       "      <th>876475</th>\n",
       "      <td>31/12/2023</td>\n",
       "      <td>19:00</td>\n",
       "      <td>0.0</td>\n",
       "      <td>1002.3</td>\n",
       "      <td>1002.3</td>\n",
       "      <td>1002.0</td>\n",
       "      <td>568.5</td>\n",
       "      <td>28.8</td>\n",
       "      <td>24.8</td>\n",
       "      <td>29.1</td>\n",
       "      <td>28.1</td>\n",
       "      <td>25.2</td>\n",
       "      <td>23.6</td>\n",
       "      <td>82.0</td>\n",
       "      <td>75.0</td>\n",
       "      <td>79.0</td>\n",
       "      <td>188.0</td>\n",
       "      <td>2.8</td>\n",
       "      <td>0.9</td>\n",
       "      <td>Teresina</td>\n",
       "    </tr>\n",
       "    <tr>\n",
       "      <th>876476</th>\n",
       "      <td>31/12/2023</td>\n",
       "      <td>20:00</td>\n",
       "      <td>0.0</td>\n",
       "      <td>1002.6</td>\n",
       "      <td>1002.6</td>\n",
       "      <td>1002.2</td>\n",
       "      <td>221.2</td>\n",
       "      <td>28.5</td>\n",
       "      <td>22.8</td>\n",
       "      <td>28.7</td>\n",
       "      <td>28.3</td>\n",
       "      <td>25.1</td>\n",
       "      <td>22.8</td>\n",
       "      <td>81.0</td>\n",
       "      <td>71.0</td>\n",
       "      <td>71.0</td>\n",
       "      <td>313.0</td>\n",
       "      <td>5.9</td>\n",
       "      <td>2.6</td>\n",
       "      <td>Teresina</td>\n",
       "    </tr>\n",
       "    <tr>\n",
       "      <th>876477</th>\n",
       "      <td>31/12/2023</td>\n",
       "      <td>21:00</td>\n",
       "      <td>0.0</td>\n",
       "      <td>1002.9</td>\n",
       "      <td>1002.9</td>\n",
       "      <td>1002.4</td>\n",
       "      <td>72.8</td>\n",
       "      <td>27.8</td>\n",
       "      <td>23.2</td>\n",
       "      <td>28.5</td>\n",
       "      <td>27.8</td>\n",
       "      <td>23.7</td>\n",
       "      <td>22.6</td>\n",
       "      <td>78.0</td>\n",
       "      <td>70.0</td>\n",
       "      <td>76.0</td>\n",
       "      <td>286.0</td>\n",
       "      <td>6.6</td>\n",
       "      <td>1.0</td>\n",
       "      <td>Teresina</td>\n",
       "    </tr>\n",
       "    <tr>\n",
       "      <th>876478</th>\n",
       "      <td>31/12/2023</td>\n",
       "      <td>22:00</td>\n",
       "      <td>0.0</td>\n",
       "      <td>1003.2</td>\n",
       "      <td>1003.2</td>\n",
       "      <td>1002.6</td>\n",
       "      <td>NaN</td>\n",
       "      <td>27.1</td>\n",
       "      <td>23.5</td>\n",
       "      <td>27.8</td>\n",
       "      <td>27.0</td>\n",
       "      <td>23.5</td>\n",
       "      <td>22.6</td>\n",
       "      <td>81.0</td>\n",
       "      <td>75.0</td>\n",
       "      <td>81.0</td>\n",
       "      <td>45.0</td>\n",
       "      <td>3.8</td>\n",
       "      <td>0.0</td>\n",
       "      <td>Teresina</td>\n",
       "    </tr>\n",
       "    <tr>\n",
       "      <th>876479</th>\n",
       "      <td>31/12/2023</td>\n",
       "      <td>23:00</td>\n",
       "      <td>0.0</td>\n",
       "      <td>1004.6</td>\n",
       "      <td>1004.6</td>\n",
       "      <td>1003.2</td>\n",
       "      <td>NaN</td>\n",
       "      <td>26.3</td>\n",
       "      <td>23.4</td>\n",
       "      <td>27.1</td>\n",
       "      <td>26.2</td>\n",
       "      <td>24.3</td>\n",
       "      <td>23.4</td>\n",
       "      <td>88.0</td>\n",
       "      <td>81.0</td>\n",
       "      <td>84.0</td>\n",
       "      <td>10.0</td>\n",
       "      <td>3.1</td>\n",
       "      <td>1.6</td>\n",
       "      <td>Teresina</td>\n",
       "    </tr>\n",
       "  </tbody>\n",
       "</table>\n",
       "</div>"
      ],
      "text/plain": [
       "              data hora_utc  precipitacao_total  pressao_atmosferica  \\\n",
       "876475  31/12/2023    19:00                 0.0               1002.3   \n",
       "876476  31/12/2023    20:00                 0.0               1002.6   \n",
       "876477  31/12/2023    21:00                 0.0               1002.9   \n",
       "876478  31/12/2023    22:00                 0.0               1003.2   \n",
       "876479  31/12/2023    23:00                 0.0               1004.6   \n",
       "\n",
       "        pressao_max_anterior  pressao_min_anterior  radiacao_global  \\\n",
       "876475                1002.3                1002.0            568.5   \n",
       "876476                1002.6                1002.2            221.2   \n",
       "876477                1002.9                1002.4             72.8   \n",
       "876478                1003.2                1002.6              NaN   \n",
       "876479                1004.6                1003.2              NaN   \n",
       "\n",
       "        temperatura_ar  temperatura_orvalho  temperatura_max_anterior  \\\n",
       "876475            28.8                 24.8                      29.1   \n",
       "876476            28.5                 22.8                      28.7   \n",
       "876477            27.8                 23.2                      28.5   \n",
       "876478            27.1                 23.5                      27.8   \n",
       "876479            26.3                 23.4                      27.1   \n",
       "\n",
       "        temperatura_min_anterior  orvalho_max_anterior  orvalho_min_anterior  \\\n",
       "876475                      28.1                  25.2                  23.6   \n",
       "876476                      28.3                  25.1                  22.8   \n",
       "876477                      27.8                  23.7                  22.6   \n",
       "876478                      27.0                  23.5                  22.6   \n",
       "876479                      26.2                  24.3                  23.4   \n",
       "\n",
       "        umidade_rel_max_anterior  umidade_rel_min_anterior  umidade_relativa  \\\n",
       "876475                      82.0                      75.0              79.0   \n",
       "876476                      81.0                      71.0              71.0   \n",
       "876477                      78.0                      70.0              76.0   \n",
       "876478                      81.0                      75.0              81.0   \n",
       "876479                      88.0                      81.0              84.0   \n",
       "\n",
       "        direcao_vento  rajada_maxima  velocidade_vento    Cidade  \n",
       "876475          188.0            2.8               0.9  Teresina  \n",
       "876476          313.0            5.9               2.6  Teresina  \n",
       "876477          286.0            6.6               1.0  Teresina  \n",
       "876478           45.0            3.8               0.0  Teresina  \n",
       "876479           10.0            3.1               1.6  Teresina  "
      ]
     },
     "execution_count": 37,
     "metadata": {},
     "output_type": "execute_result"
    }
   ],
   "source": [
    "all_df.tail()"
   ]
  },
  {
   "cell_type": "code",
   "execution_count": 9,
   "metadata": {},
   "outputs": [
    {
     "data": {
      "text/plain": [
       "precipitacao_total\n",
       " 0.0       786417\n",
       " 0.2        20964\n",
       " NaN        11936\n",
       "-9999.0      8243\n",
       " 0.4         7803\n",
       "            ...  \n",
       " 66.2           1\n",
       " 62.4           1\n",
       " 47.8           1\n",
       " 53.6           1\n",
       " 60.4           1\n",
       "Name: count, Length: 280, dtype: int64"
      ]
     },
     "execution_count": 9,
     "metadata": {},
     "output_type": "execute_result"
    }
   ],
   "source": [
    "all_df['precipitacao_total'].value_counts(dropna=False)"
   ]
  },
  {
   "cell_type": "code",
   "execution_count": 10,
   "metadata": {},
   "outputs": [
    {
     "data": {
      "text/plain": [
       "0.20470091708406277"
      ]
     },
     "execution_count": 10,
     "metadata": {},
     "output_type": "execute_result"
    }
   ],
   "source": [
    "all_df['precipitacao_total'].replace(-9999.0, np.NaN).mean()"
   ]
  },
  {
   "cell_type": "code",
   "execution_count": null,
   "metadata": {},
   "outputs": [
    {
     "data": {
      "text/plain": [
       "0.13383697813121273"
      ]
     },
     "execution_count": 40,
     "metadata": {},
     "output_type": "execute_result"
    }
   ],
   "source": [
    "#teresina_2014['precipitacao_total'].replace(-9999.0, np.NaN).mean()"
   ]
  },
  {
   "cell_type": "code",
   "execution_count": null,
   "metadata": {},
   "outputs": [
    {
     "data": {
      "text/plain": [
       "-1386.7323287671234"
      ]
     },
     "execution_count": 41,
     "metadata": {},
     "output_type": "execute_result"
    }
   ],
   "source": [
    "#teresina_2014['precipitacao_total'].mean()"
   ]
  },
  {
   "cell_type": "code",
   "execution_count": null,
   "metadata": {},
   "outputs": [
    {
     "data": {
      "text/html": [
       "<div>\n",
       "<style scoped>\n",
       "    .dataframe tbody tr th:only-of-type {\n",
       "        vertical-align: middle;\n",
       "    }\n",
       "\n",
       "    .dataframe tbody tr th {\n",
       "        vertical-align: top;\n",
       "    }\n",
       "\n",
       "    .dataframe thead th {\n",
       "        text-align: right;\n",
       "    }\n",
       "</style>\n",
       "<table border=\"1\" class=\"dataframe\">\n",
       "  <thead>\n",
       "    <tr style=\"text-align: right;\">\n",
       "      <th></th>\n",
       "      <th>data</th>\n",
       "      <th>hora_utc</th>\n",
       "      <th>precipitacao_total</th>\n",
       "      <th>pressao_atmosferica</th>\n",
       "      <th>pressao_max_anterior</th>\n",
       "      <th>pressao_min_anterior</th>\n",
       "      <th>radiacao_global</th>\n",
       "      <th>temperatura_ar</th>\n",
       "      <th>temperatura_orvalho</th>\n",
       "      <th>temperatura_max_anterior</th>\n",
       "      <th>temperatura_min_anterior</th>\n",
       "      <th>orvalho_max_anterior</th>\n",
       "      <th>orvalho_min_anterior</th>\n",
       "      <th>umidade_rel_max_anterior</th>\n",
       "      <th>umidade_rel_min_anterior</th>\n",
       "      <th>umidade_relativa</th>\n",
       "      <th>direcao_vento</th>\n",
       "      <th>rajada_maxima</th>\n",
       "      <th>velocidade_vento</th>\n",
       "      <th>Cidade</th>\n",
       "    </tr>\n",
       "  </thead>\n",
       "  <tbody>\n",
       "    <tr>\n",
       "      <th>0</th>\n",
       "      <td>01/01/2014</td>\n",
       "      <td>00:00</td>\n",
       "      <td>0.0</td>\n",
       "      <td>885.8</td>\n",
       "      <td>885.9</td>\n",
       "      <td>885.4</td>\n",
       "      <td>-9999.0</td>\n",
       "      <td>21.2</td>\n",
       "      <td>18.0</td>\n",
       "      <td>22.2</td>\n",
       "      <td>21.0</td>\n",
       "      <td>18.3</td>\n",
       "      <td>17.6</td>\n",
       "      <td>83.0</td>\n",
       "      <td>77.0</td>\n",
       "      <td>82.0</td>\n",
       "      <td>173.0</td>\n",
       "      <td>2.1</td>\n",
       "      <td>0.8</td>\n",
       "      <td>Brasília</td>\n",
       "    </tr>\n",
       "    <tr>\n",
       "      <th>1</th>\n",
       "      <td>01/01/2014</td>\n",
       "      <td>01:00</td>\n",
       "      <td>0.0</td>\n",
       "      <td>886.6</td>\n",
       "      <td>886.6</td>\n",
       "      <td>885.8</td>\n",
       "      <td>-9999.0</td>\n",
       "      <td>20.3</td>\n",
       "      <td>18.9</td>\n",
       "      <td>21.2</td>\n",
       "      <td>20.1</td>\n",
       "      <td>19.0</td>\n",
       "      <td>17.7</td>\n",
       "      <td>92.0</td>\n",
       "      <td>82.0</td>\n",
       "      <td>91.0</td>\n",
       "      <td>167.0</td>\n",
       "      <td>1.4</td>\n",
       "      <td>0.4</td>\n",
       "      <td>Brasília</td>\n",
       "    </tr>\n",
       "    <tr>\n",
       "      <th>2</th>\n",
       "      <td>01/01/2014</td>\n",
       "      <td>02:00</td>\n",
       "      <td>0.0</td>\n",
       "      <td>887.0</td>\n",
       "      <td>887.0</td>\n",
       "      <td>886.6</td>\n",
       "      <td>-9999.0</td>\n",
       "      <td>19.9</td>\n",
       "      <td>18.5</td>\n",
       "      <td>20.4</td>\n",
       "      <td>19.7</td>\n",
       "      <td>18.8</td>\n",
       "      <td>18.2</td>\n",
       "      <td>93.0</td>\n",
       "      <td>90.0</td>\n",
       "      <td>91.0</td>\n",
       "      <td>187.0</td>\n",
       "      <td>1.4</td>\n",
       "      <td>0.6</td>\n",
       "      <td>Brasília</td>\n",
       "    </tr>\n",
       "    <tr>\n",
       "      <th>3</th>\n",
       "      <td>01/01/2014</td>\n",
       "      <td>03:00</td>\n",
       "      <td>0.0</td>\n",
       "      <td>886.5</td>\n",
       "      <td>887.0</td>\n",
       "      <td>886.5</td>\n",
       "      <td>-9999.0</td>\n",
       "      <td>19.9</td>\n",
       "      <td>18.2</td>\n",
       "      <td>20.1</td>\n",
       "      <td>19.6</td>\n",
       "      <td>18.5</td>\n",
       "      <td>18.0</td>\n",
       "      <td>92.0</td>\n",
       "      <td>88.0</td>\n",
       "      <td>90.0</td>\n",
       "      <td>120.0</td>\n",
       "      <td>1.2</td>\n",
       "      <td>0.5</td>\n",
       "      <td>Brasília</td>\n",
       "    </tr>\n",
       "    <tr>\n",
       "      <th>4</th>\n",
       "      <td>01/01/2014</td>\n",
       "      <td>04:00</td>\n",
       "      <td>0.0</td>\n",
       "      <td>886.2</td>\n",
       "      <td>886.5</td>\n",
       "      <td>886.2</td>\n",
       "      <td>-9999.0</td>\n",
       "      <td>19.4</td>\n",
       "      <td>18.5</td>\n",
       "      <td>20.1</td>\n",
       "      <td>19.1</td>\n",
       "      <td>18.8</td>\n",
       "      <td>17.9</td>\n",
       "      <td>96.0</td>\n",
       "      <td>88.0</td>\n",
       "      <td>95.0</td>\n",
       "      <td>124.0</td>\n",
       "      <td>0.6</td>\n",
       "      <td>0.3</td>\n",
       "      <td>Brasília</td>\n",
       "    </tr>\n",
       "  </tbody>\n",
       "</table>\n",
       "</div>"
      ],
      "text/plain": [
       "         data hora_utc  precipitacao_total  pressao_atmosferica  \\\n",
       "0  01/01/2014    00:00                 0.0                885.8   \n",
       "1  01/01/2014    01:00                 0.0                886.6   \n",
       "2  01/01/2014    02:00                 0.0                887.0   \n",
       "3  01/01/2014    03:00                 0.0                886.5   \n",
       "4  01/01/2014    04:00                 0.0                886.2   \n",
       "\n",
       "   pressao_max_anterior  pressao_min_anterior  radiacao_global  \\\n",
       "0                 885.9                 885.4          -9999.0   \n",
       "1                 886.6                 885.8          -9999.0   \n",
       "2                 887.0                 886.6          -9999.0   \n",
       "3                 887.0                 886.5          -9999.0   \n",
       "4                 886.5                 886.2          -9999.0   \n",
       "\n",
       "   temperatura_ar  temperatura_orvalho  temperatura_max_anterior  \\\n",
       "0            21.2                 18.0                      22.2   \n",
       "1            20.3                 18.9                      21.2   \n",
       "2            19.9                 18.5                      20.4   \n",
       "3            19.9                 18.2                      20.1   \n",
       "4            19.4                 18.5                      20.1   \n",
       "\n",
       "   temperatura_min_anterior  orvalho_max_anterior  orvalho_min_anterior  \\\n",
       "0                      21.0                  18.3                  17.6   \n",
       "1                      20.1                  19.0                  17.7   \n",
       "2                      19.7                  18.8                  18.2   \n",
       "3                      19.6                  18.5                  18.0   \n",
       "4                      19.1                  18.8                  17.9   \n",
       "\n",
       "   umidade_rel_max_anterior  umidade_rel_min_anterior  umidade_relativa  \\\n",
       "0                      83.0                      77.0              82.0   \n",
       "1                      92.0                      82.0              91.0   \n",
       "2                      93.0                      90.0              91.0   \n",
       "3                      92.0                      88.0              90.0   \n",
       "4                      96.0                      88.0              95.0   \n",
       "\n",
       "   direcao_vento  rajada_maxima  velocidade_vento    Cidade  \n",
       "0          173.0            2.1               0.8  Brasília  \n",
       "1          167.0            1.4               0.4  Brasília  \n",
       "2          187.0            1.4               0.6  Brasília  \n",
       "3          120.0            1.2               0.5  Brasília  \n",
       "4          124.0            0.6               0.3  Brasília  "
      ]
     },
     "execution_count": 42,
     "metadata": {},
     "output_type": "execute_result"
    }
   ],
   "source": [
    "all_bsb=pd.concat([bsb_2014, bsb_2015, bsb_2016, bsb_2017, bsb_2018, bsb_2019, bsb_2020, bsb_2021, bsb_2022, bsb_2023], ignore_index=True)\n",
    "all_bsb.head()"
   ]
  },
  {
   "cell_type": "markdown",
   "metadata": {},
   "source": [
    "##Média de Precipitação de Chuva anual em Brasília"
   ]
  },
  {
   "cell_type": "code",
   "execution_count": null,
   "metadata": {},
   "outputs": [
    {
     "name": "stdout",
     "output_type": "stream",
     "text": [
      "Media de Precipitacao de 2014 é de  1474.8 L\n",
      "Media de Precipitacao de 2015 é de  1089.4655231560891 L\n",
      "Media de Precipitacao de 2016 é de  1140.9298872822499 L\n",
      "Media de Precipitacao de 2017 é de  1291.9999999999998 L\n",
      "Media de Precipitacao de 2018 é de  1711.3774104683196 L\n",
      "Media de Precipitacao de 2019 é de  1371.9057639524242 L\n",
      "Media de Precipitacao de 2020 é de  1576.6000000000001 L\n",
      "Media de Precipitacao de 2021 é de  2023.430985272291 L\n",
      "Media de Precipitacao de 2022 é de  1356.5548578604867 L\n",
      "Media de Precipitacao de 2023 é de  996.5688178183897 L\n"
     ]
    }
   ],
   "source": [
    "media_bsb_2014 = bsb_2014['precipitacao_total'].mean() * 8760\n",
    "media_bsb_2015 = bsb_2015['precipitacao_total'].replace(-9999.0, np.NaN).mean() * 8760\n",
    "media_bsb_2016 = bsb_2016['precipitacao_total'].replace(-9999.0, np.NaN).mean() * 8784\n",
    "media_bsb_2017 = bsb_2017['precipitacao_total'].mean() * 8760\n",
    "media_bsb_2018 = bsb_2018['precipitacao_total'].replace(-9999.0, np.NaN).mean() * 8760\n",
    "media_bsb_2019 = bsb_2019['precipitacao_total'].mean() * 8760\n",
    "media_bsb_2020 = bsb_2020['precipitacao_total'].mean() * 8784\n",
    "media_bsb_2021 = bsb_2021['precipitacao_total'].mean() * 8760\n",
    "media_bsb_2022 = bsb_2022['precipitacao_total'].mean() * 8760\n",
    "media_bsb_2023 = bsb_2023['precipitacao_total'].mean() * 8760\n",
    "print(\"Media de Precipitacao de 2014 é de \",media_bsb_2014, \"L\")\n",
    "print(\"Media de Precipitacao de 2015 é de \",media_bsb_2015, \"L\")\n",
    "print(\"Media de Precipitacao de 2016 é de \",media_bsb_2016, \"L\")\n",
    "print(\"Media de Precipitacao de 2017 é de \",media_bsb_2017, \"L\")\n",
    "print(\"Media de Precipitacao de 2018 é de \",media_bsb_2018, \"L\")\n",
    "print(\"Media de Precipitacao de 2019 é de \",media_bsb_2019, \"L\")\n",
    "print(\"Media de Precipitacao de 2020 é de \",media_bsb_2020, \"L\")\n",
    "print(\"Media de Precipitacao de 2021 é de \",media_bsb_2021, \"L\")\n",
    "print(\"Media de Precipitacao de 2022 é de \",media_bsb_2022, \"L\")\n",
    "print(\"Media de Precipitacao de 2023 é de \",media_bsb_2023, \"L\")"
   ]
  },
  {
   "cell_type": "code",
   "execution_count": null,
   "metadata": {},
   "outputs": [],
   "source": [
    "medias_bsb = [media_bsb_2014, media_bsb_2015, media_bsb_2016, media_bsb_2017, media_bsb_2018, media_bsb_2019, media_bsb_2020, media_bsb_2021, media_bsb_2022, media_bsb_2023]\n",
    "anos_bsb = ['2014','2015','2016','2017','2018','2019','2020','2021','2022','2023']"
   ]
  },
  {
   "cell_type": "code",
   "execution_count": null,
   "metadata": {},
   "outputs": [
    {
     "data": {
      "image/png": "[encoded data removed]",
      "text/plain": [
       "<Figure size 640x480 with 1 Axes>"
      ]
     },
     "metadata": {},
     "output_type": "display_data"
    }
   ],
   "source": [
    "plt.plot(anos_bsb, medias_bsb)\n",
    "plt.xlabel('Ano')\n",
    "plt.ylabel('Precipitações Médias (mm/m²)')\n",
    "plt.title('Precipitação Média Anual (2014 a 2023)')\n",
    "plt.grid(True)\n",
    "plt.show()"
   ]
  },
  {
   "cell_type": "markdown",
   "metadata": {},
   "source": [
    "##Taxa da Variação das chuvas em Brasília"
   ]
  },
  {
   "cell_type": "code",
   "execution_count": null,
   "metadata": {},
   "outputs": [
    {
     "name": "stdout",
     "output_type": "stream",
     "text": [
      "Desvio padrão das médias:  293.7580697561419\n",
      "Coeficiente de variação:  0.20932431723897554\n"
     ]
    }
   ],
   "source": [
    "#Calculando o desvio padrão da médias\n",
    "desvio_padrao_bsb = np.std(medias_bsb)\n",
    "print(\"Desvio padrão das médias: \", desvio_padrao_bsb)\n",
    "\n",
    "#Calculando o coeficiente de variação (interessante para ver a dispersão dos dados)\n",
    "media_medias_bsb = np.mean(medias_bsb)\n",
    "coeficiente_variacao = desvio_padrao_bsb / media_medias_bsb\n",
    "print(\"Coeficiente de variação: \", coeficiente_variacao)"
   ]
  },
  {
   "cell_type": "code",
   "execution_count": null,
   "metadata": {},
   "outputs": [
    {
     "data": {
      "image/png": "[encoded data removed]",
      "text/plain": [
       "<Figure size 640x480 with 1 Axes>"
      ]
     },
     "metadata": {},
     "output_type": "display_data"
    }
   ],
   "source": [
    "sns.boxplot(x = medias_bsb)\n",
    "plt.title('Teste')\n",
    "plt.show()"
   ]
  },
  {
   "cell_type": "code",
   "execution_count": null,
   "metadata": {},
   "outputs": [
    {
     "data": {
      "image/png": "[encoded data removed]",
      "text/plain": [
       "<Figure size 640x480 with 1 Axes>"
      ]
     },
     "metadata": {},
     "output_type": "display_data"
    }
   ],
   "source": [
    "plt.bar(anos_bsb, medias_bsb)\n",
    "plt.xlabel('Ano')\n",
    "plt.ylabel('Médias')\n",
    "plt.title('Variação ao longo dos anos em Brasília')\n",
    "plt.show()"
   ]
  },
  {
   "cell_type": "markdown",
   "metadata": {},
   "source": [
    "#Há uma variação na precipitação de 293.75 litros ao longo dos anos, podemos concluir que essa taxa é um pouco alta devido a quantidade de chuva estar abaixo do normal no ano de 2015 e 2023, quando comparado aos demais."
   ]
  },
  {
   "cell_type": "code",
   "execution_count": null,
   "metadata": {},
   "outputs": [
    {
     "data": {
      "text/plain": [
       "data                         object\n",
       "hora_utc                     object\n",
       "precipitacao_total          float64\n",
       "pressao_atmosferica         float64\n",
       "pressao_max_anterior        float64\n",
       "pressao_min_anterior        float64\n",
       "radiacao_global             float64\n",
       "temperatura_ar              float64\n",
       "temperatura_orvalho         float64\n",
       "temperatura_max_anterior    float64\n",
       "temperatura_min_anterior    float64\n",
       "orvalho_max_anterior        float64\n",
       "orvalho_min_anterior        float64\n",
       "umidade_rel_max_anterior    float64\n",
       "umidade_rel_min_anterior    float64\n",
       "umidade_relativa            float64\n",
       "direcao_vento               float64\n",
       "rajada_maxima               float64\n",
       "velocidade_vento            float64\n",
       "Cidade                       object\n",
       "dtype: object"
      ]
     },
     "execution_count": 61,
     "metadata": {},
     "output_type": "execute_result"
    }
   ],
   "source": [
    "bsb_2023.dtypes"
   ]
  },
  {
   "cell_type": "code",
   "execution_count": null,
   "metadata": {},
   "outputs": [
    {
     "data": {
      "text/plain": [
       "data\n",
       "01/01/2023    24\n",
       "05/09/2023    24\n",
       "04/09/2023    24\n",
       "03/09/2023    24\n",
       "02/09/2023    24\n",
       "              ..\n",
       "28/04/2023    24\n",
       "27/04/2023    24\n",
       "26/04/2023    24\n",
       "24/04/2023    24\n",
       "31/12/2023    24\n",
       "Name: count, Length: 365, dtype: int64"
      ]
     },
     "execution_count": 62,
     "metadata": {},
     "output_type": "execute_result"
    }
   ],
   "source": [
    "bsb_2023['data'].value_counts(ascending=True)"
   ]
  },
  {
   "cell_type": "code",
   "execution_count": null,
   "metadata": {},
   "outputs": [
    {
     "data": {
      "text/plain": [
       "data\n",
       "01/01/2023    24\n",
       "09/09/2023    24\n",
       "07/09/2023    24\n",
       "06/09/2023    24\n",
       "05/09/2023    24\n",
       "              ..\n",
       "01/05/2023    24\n",
       "30/04/2023    24\n",
       "29/04/2023    24\n",
       "28/04/2023    24\n",
       "31/12/2023    24\n",
       "Name: count, Length: 365, dtype: int64"
      ]
     },
     "execution_count": 65,
     "metadata": {},
     "output_type": "execute_result"
    }
   ],
   "source": [
    "bsb_2023['data'].value_counts(dropna=True)"
   ]
  },
  {
   "cell_type": "code",
   "execution_count": null,
   "metadata": {},
   "outputs": [],
   "source": [
    "bsb_2023['data'] = pd.to_datetime(bsb_2023['data'], format='%d/%m/%Y')"
   ]
  },
  {
   "cell_type": "code",
   "execution_count": null,
   "metadata": {},
   "outputs": [
    {
     "data": {
      "text/plain": [
       "0.2561073825503356"
      ]
     },
     "execution_count": 75,
     "metadata": {},
     "output_type": "execute_result"
    }
   ],
   "source": [
    "bsb_2023['precipitacao_total'].iloc[:745].mean()"
   ]
  },
  {
   "cell_type": "code",
   "execution_count": null,
   "metadata": {},
   "outputs": [
    {
     "data": {
      "text/plain": [
       "0.0818452380952381"
      ]
     },
     "execution_count": 74,
     "metadata": {},
     "output_type": "execute_result"
    }
   ],
   "source": [
    "bsb_2023['precipitacao_total'].iloc[745:1417].mean()"
   ]
  },
  {
   "cell_type": "code",
   "execution_count": null,
   "metadata": {},
   "outputs": [
    {
     "name": "stdout",
     "output_type": "stream",
     "text": [
      "data\n",
      "2023-01-01    0.008333\n",
      "2023-01-02    0.658333\n",
      "2023-01-03    0.016667\n",
      "2023-01-04    0.050000\n",
      "2023-01-05    0.033333\n",
      "                ...   \n",
      "2023-12-27    0.000000\n",
      "2023-12-28    0.025000\n",
      "2023-12-29    0.000000\n",
      "2023-12-30    0.116667\n",
      "2023-12-31    0.900000\n",
      "Name: precipitacao_total, Length: 365, dtype: float64\n"
     ]
    }
   ],
   "source": [
    "print(bsb_2023.groupby('data')['precipitacao_total'].mean())"
   ]
  },
  {
   "cell_type": "code",
   "execution_count": null,
   "metadata": {},
   "outputs": [
    {
     "name": "stderr",
     "output_type": "stream",
     "text": [
      "C:\\Users\\Darlene\\AppData\\Local\\Temp\\ipykernel_10688\\4214492047.py:1: FutureWarning: 'M' is deprecated and will be removed in a future version, please use 'ME' instead.\n",
      "  bsb_2023.groupby(pd.Grouper(key='data', freq='M'))['precipitacao_total'].sum()\n"
     ]
    },
    {
     "data": {
      "text/plain": [
       "data\n",
       "2023-01-31    190.8\n",
       "2023-02-28     55.0\n",
       "2023-03-31    135.2\n",
       "2023-04-30    187.2\n",
       "2023-05-31      1.8\n",
       "2023-06-30      2.2\n",
       "2023-07-31      0.0\n",
       "2023-08-31     37.6\n",
       "2023-09-30     30.0\n",
       "2023-10-31    126.2\n",
       "2023-11-30    104.2\n",
       "2023-12-31    125.8\n",
       "Freq: ME, Name: precipitacao_total, dtype: float64"
      ]
     },
     "execution_count": 89,
     "metadata": {},
     "output_type": "execute_result"
    }
   ],
   "source": [
    "bsb_2023.groupby(pd.Grouper(key='data', freq='M'))['precipitacao_total'].sum()"
   ]
  }
 ],
 "metadata": {
  "kernelspec": {
   "display_name": "Python 3",
   "language": "python",
   "name": "python3"
  },
  "language_info": {
   "codemirror_mode": {
    "name": "ipython",
    "version": 3
   },
   "file_extension": ".py",
   "mimetype": "text/x-python",
   "name": "python",
   "nbconvert_exporter": "python",
   "pygments_lexer": "ipython3",
   "version": "3.12.7"
  }
 },
 "nbformat": 4,
 "nbformat_minor": 2
}
